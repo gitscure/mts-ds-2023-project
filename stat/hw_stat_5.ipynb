{
 "cells": [
  {
   "cell_type": "markdown",
   "metadata": {},
   "source": [
    "# Домашнее задание ШАД МТС по теме ТВиМС 5"
   ]
  },
  {
   "cell_type": "markdown",
   "metadata": {},
   "source": [
    "## Задание\n",
    "\n",
    "Для датасета из прошлого домашнего задания необходимо:\n",
    "\n",
    "1. Сформировать двухвыборочные гипотезы касательно медиан и распределений для дискретного и непрерывного случая. Если дискретного показателя нет - создайте его дополнительно. Итого 4 гипотезы (4 пункта).\n",
    "2. Каждую гипотезу проверьте релевантным тестом и обоснуйте, почему выбрали именно его. 5-м пунктом будет проверка результатов с бутстрапом.\n",
    "3. Сравните результаты из 4 пунктов с результатами бутстрапа и обоснуйте различия, если они есть. Определите какой подход мощнее в конкретном случае и почему."
   ]
  },
  {
   "cell_type": "code",
   "execution_count": 1,
   "metadata": {},
   "outputs": [],
   "source": [
    "import numpy as np\n",
    "import matplotlib.pyplot as plt\n",
    "import pandas as pd\n",
    "import scipy.stats as st\n",
    "import seaborn as sns\n",
    "from tqdm import tqdm\n",
    "\n",
    "plt.style.use('ggplot')\n",
    "%matplotlib inline\n",
    "\n",
    "alpha = 0.05 # зададимся уровнем значимости"
   ]
  },
  {
   "cell_type": "markdown",
   "metadata": {},
   "source": [
    "### Загрузка и извлечение данных из выбранного датасета"
   ]
  },
  {
   "cell_type": "markdown",
   "metadata": {},
   "source": [
    "Источником данных для текущей работы будет [Adult dataset](http://www.cs.toronto.edu/~delve/data/adult/desc.html)"
   ]
  },
  {
   "cell_type": "code",
   "execution_count": 2,
   "metadata": {},
   "outputs": [
    {
     "name": "stdout",
     "output_type": "stream",
     "text": [
      "<class 'pandas.core.frame.DataFrame'>\n",
      "RangeIndex: 48842 entries, 0 to 48841\n",
      "Data columns (total 15 columns):\n",
      " #   Column           Non-Null Count  Dtype \n",
      "---  ------           --------------  ----- \n",
      " 0   age              48842 non-null  int64 \n",
      " 1   workclass        48842 non-null  object\n",
      " 2   fnlwgt           48842 non-null  int64 \n",
      " 3   education        48842 non-null  object\n",
      " 4   educational-num  48842 non-null  int64 \n",
      " 5   marital-status   48842 non-null  object\n",
      " 6   occupation       48842 non-null  object\n",
      " 7   relationship     48842 non-null  object\n",
      " 8   race             48842 non-null  object\n",
      " 9   gender           48842 non-null  object\n",
      " 10  capital-gain     48842 non-null  int64 \n",
      " 11  capital-loss     48842 non-null  int64 \n",
      " 12  hours-per-week   48842 non-null  int64 \n",
      " 13  native-country   48842 non-null  object\n",
      " 14  income           48842 non-null  object\n",
      "dtypes: int64(6), object(9)\n",
      "memory usage: 5.6+ MB\n"
     ]
    },
    {
     "data": {
      "text/html": [
       "<div>\n",
       "<style scoped>\n",
       "    .dataframe tbody tr th:only-of-type {\n",
       "        vertical-align: middle;\n",
       "    }\n",
       "\n",
       "    .dataframe tbody tr th {\n",
       "        vertical-align: top;\n",
       "    }\n",
       "\n",
       "    .dataframe thead th {\n",
       "        text-align: right;\n",
       "    }\n",
       "</style>\n",
       "<table border=\"1\" class=\"dataframe\">\n",
       "  <thead>\n",
       "    <tr style=\"text-align: right;\">\n",
       "      <th></th>\n",
       "      <th>age</th>\n",
       "      <th>workclass</th>\n",
       "      <th>fnlwgt</th>\n",
       "      <th>education</th>\n",
       "      <th>educational-num</th>\n",
       "      <th>marital-status</th>\n",
       "      <th>occupation</th>\n",
       "      <th>relationship</th>\n",
       "      <th>race</th>\n",
       "      <th>gender</th>\n",
       "      <th>capital-gain</th>\n",
       "      <th>capital-loss</th>\n",
       "      <th>hours-per-week</th>\n",
       "      <th>native-country</th>\n",
       "      <th>income</th>\n",
       "    </tr>\n",
       "  </thead>\n",
       "  <tbody>\n",
       "    <tr>\n",
       "      <th>0</th>\n",
       "      <td>25</td>\n",
       "      <td>Private</td>\n",
       "      <td>226802</td>\n",
       "      <td>11th</td>\n",
       "      <td>7</td>\n",
       "      <td>Never-married</td>\n",
       "      <td>Machine-op-inspct</td>\n",
       "      <td>Own-child</td>\n",
       "      <td>Black</td>\n",
       "      <td>Male</td>\n",
       "      <td>0</td>\n",
       "      <td>0</td>\n",
       "      <td>40</td>\n",
       "      <td>United-States</td>\n",
       "      <td>&lt;=50K</td>\n",
       "    </tr>\n",
       "    <tr>\n",
       "      <th>1</th>\n",
       "      <td>38</td>\n",
       "      <td>Private</td>\n",
       "      <td>89814</td>\n",
       "      <td>HS-grad</td>\n",
       "      <td>9</td>\n",
       "      <td>Married-civ-spouse</td>\n",
       "      <td>Farming-fishing</td>\n",
       "      <td>Husband</td>\n",
       "      <td>White</td>\n",
       "      <td>Male</td>\n",
       "      <td>0</td>\n",
       "      <td>0</td>\n",
       "      <td>50</td>\n",
       "      <td>United-States</td>\n",
       "      <td>&lt;=50K</td>\n",
       "    </tr>\n",
       "    <tr>\n",
       "      <th>2</th>\n",
       "      <td>28</td>\n",
       "      <td>Local-gov</td>\n",
       "      <td>336951</td>\n",
       "      <td>Assoc-acdm</td>\n",
       "      <td>12</td>\n",
       "      <td>Married-civ-spouse</td>\n",
       "      <td>Protective-serv</td>\n",
       "      <td>Husband</td>\n",
       "      <td>White</td>\n",
       "      <td>Male</td>\n",
       "      <td>0</td>\n",
       "      <td>0</td>\n",
       "      <td>40</td>\n",
       "      <td>United-States</td>\n",
       "      <td>&gt;50K</td>\n",
       "    </tr>\n",
       "    <tr>\n",
       "      <th>3</th>\n",
       "      <td>44</td>\n",
       "      <td>Private</td>\n",
       "      <td>160323</td>\n",
       "      <td>Some-college</td>\n",
       "      <td>10</td>\n",
       "      <td>Married-civ-spouse</td>\n",
       "      <td>Machine-op-inspct</td>\n",
       "      <td>Husband</td>\n",
       "      <td>Black</td>\n",
       "      <td>Male</td>\n",
       "      <td>7688</td>\n",
       "      <td>0</td>\n",
       "      <td>40</td>\n",
       "      <td>United-States</td>\n",
       "      <td>&gt;50K</td>\n",
       "    </tr>\n",
       "    <tr>\n",
       "      <th>4</th>\n",
       "      <td>18</td>\n",
       "      <td>?</td>\n",
       "      <td>103497</td>\n",
       "      <td>Some-college</td>\n",
       "      <td>10</td>\n",
       "      <td>Never-married</td>\n",
       "      <td>?</td>\n",
       "      <td>Own-child</td>\n",
       "      <td>White</td>\n",
       "      <td>Female</td>\n",
       "      <td>0</td>\n",
       "      <td>0</td>\n",
       "      <td>30</td>\n",
       "      <td>United-States</td>\n",
       "      <td>&lt;=50K</td>\n",
       "    </tr>\n",
       "  </tbody>\n",
       "</table>\n",
       "</div>"
      ],
      "text/plain": [
       "   age  workclass  fnlwgt     education  educational-num      marital-status  \\\n",
       "0   25    Private  226802          11th                7       Never-married   \n",
       "1   38    Private   89814       HS-grad                9  Married-civ-spouse   \n",
       "2   28  Local-gov  336951    Assoc-acdm               12  Married-civ-spouse   \n",
       "3   44    Private  160323  Some-college               10  Married-civ-spouse   \n",
       "4   18          ?  103497  Some-college               10       Never-married   \n",
       "\n",
       "          occupation relationship   race  gender  capital-gain  capital-loss  \\\n",
       "0  Machine-op-inspct    Own-child  Black    Male             0             0   \n",
       "1    Farming-fishing      Husband  White    Male             0             0   \n",
       "2    Protective-serv      Husband  White    Male             0             0   \n",
       "3  Machine-op-inspct      Husband  Black    Male          7688             0   \n",
       "4                  ?    Own-child  White  Female             0             0   \n",
       "\n",
       "   hours-per-week native-country income  \n",
       "0              40  United-States  <=50K  \n",
       "1              50  United-States  <=50K  \n",
       "2              40  United-States   >50K  \n",
       "3              40  United-States   >50K  \n",
       "4              30  United-States  <=50K  "
      ]
     },
     "execution_count": 2,
     "metadata": {},
     "output_type": "execute_result"
    }
   ],
   "source": [
    "# Загружаем данные\n",
    "\n",
    "df = pd.read_csv('./datasets/adult.csv')\n",
    "df.info()\n",
    "df.head()"
   ]
  },
  {
   "cell_type": "code",
   "execution_count": 3,
   "metadata": {},
   "outputs": [],
   "source": [
    "# Для удобства, создадим списки признаков\n",
    "\n",
    "# Числовые признаки\n",
    "num_cols = [\n",
    "    'age',\n",
    "    'fnlwgt',\n",
    "    'educational-num',\n",
    "    'capital-gain',\n",
    "    'capital-loss',\n",
    "    'hours-per-week'\n",
    "]\n",
    "\n",
    "# Категориальные признаки\n",
    "cat_cols = [\n",
    "    'workclass',\n",
    "    'education',\n",
    "    'marital-status',\n",
    "    'occupation',\n",
    "    'relationship',\n",
    "    'race',\n",
    "    'gender',\n",
    "    'native-country'\n",
    "]\n",
    "\n",
    "feature_cols = num_cols + cat_cols\n",
    "target_col = 'income'"
   ]
  },
  {
   "cell_type": "code",
   "execution_count": 4,
   "metadata": {},
   "outputs": [
    {
     "data": {
      "text/html": [
       "<div>\n",
       "<style scoped>\n",
       "    .dataframe tbody tr th:only-of-type {\n",
       "        vertical-align: middle;\n",
       "    }\n",
       "\n",
       "    .dataframe tbody tr th {\n",
       "        vertical-align: top;\n",
       "    }\n",
       "\n",
       "    .dataframe thead th {\n",
       "        text-align: right;\n",
       "    }\n",
       "</style>\n",
       "<table border=\"1\" class=\"dataframe\">\n",
       "  <thead>\n",
       "    <tr style=\"text-align: right;\">\n",
       "      <th></th>\n",
       "      <th>age</th>\n",
       "      <th>workclass</th>\n",
       "      <th>fnlwgt</th>\n",
       "      <th>education</th>\n",
       "      <th>educational-num</th>\n",
       "      <th>marital-status</th>\n",
       "      <th>occupation</th>\n",
       "      <th>relationship</th>\n",
       "      <th>race</th>\n",
       "      <th>gender</th>\n",
       "      <th>capital-gain</th>\n",
       "      <th>capital-loss</th>\n",
       "      <th>hours-per-week</th>\n",
       "      <th>native-country</th>\n",
       "      <th>income</th>\n",
       "    </tr>\n",
       "  </thead>\n",
       "  <tbody>\n",
       "    <tr>\n",
       "      <th>4</th>\n",
       "      <td>18</td>\n",
       "      <td>?</td>\n",
       "      <td>103497</td>\n",
       "      <td>Some-college</td>\n",
       "      <td>10</td>\n",
       "      <td>Never-married</td>\n",
       "      <td>?</td>\n",
       "      <td>Own-child</td>\n",
       "      <td>White</td>\n",
       "      <td>Female</td>\n",
       "      <td>0</td>\n",
       "      <td>0</td>\n",
       "      <td>30</td>\n",
       "      <td>United-States</td>\n",
       "      <td>&lt;=50K</td>\n",
       "    </tr>\n",
       "    <tr>\n",
       "      <th>6</th>\n",
       "      <td>29</td>\n",
       "      <td>?</td>\n",
       "      <td>227026</td>\n",
       "      <td>HS-grad</td>\n",
       "      <td>9</td>\n",
       "      <td>Never-married</td>\n",
       "      <td>?</td>\n",
       "      <td>Unmarried</td>\n",
       "      <td>Black</td>\n",
       "      <td>Male</td>\n",
       "      <td>0</td>\n",
       "      <td>0</td>\n",
       "      <td>40</td>\n",
       "      <td>United-States</td>\n",
       "      <td>&lt;=50K</td>\n",
       "    </tr>\n",
       "    <tr>\n",
       "      <th>13</th>\n",
       "      <td>58</td>\n",
       "      <td>?</td>\n",
       "      <td>299831</td>\n",
       "      <td>HS-grad</td>\n",
       "      <td>9</td>\n",
       "      <td>Married-civ-spouse</td>\n",
       "      <td>?</td>\n",
       "      <td>Husband</td>\n",
       "      <td>White</td>\n",
       "      <td>Male</td>\n",
       "      <td>0</td>\n",
       "      <td>0</td>\n",
       "      <td>35</td>\n",
       "      <td>United-States</td>\n",
       "      <td>&lt;=50K</td>\n",
       "    </tr>\n",
       "    <tr>\n",
       "      <th>19</th>\n",
       "      <td>40</td>\n",
       "      <td>Private</td>\n",
       "      <td>85019</td>\n",
       "      <td>Doctorate</td>\n",
       "      <td>16</td>\n",
       "      <td>Married-civ-spouse</td>\n",
       "      <td>Prof-specialty</td>\n",
       "      <td>Husband</td>\n",
       "      <td>Asian-Pac-Islander</td>\n",
       "      <td>Male</td>\n",
       "      <td>0</td>\n",
       "      <td>0</td>\n",
       "      <td>45</td>\n",
       "      <td>?</td>\n",
       "      <td>&gt;50K</td>\n",
       "    </tr>\n",
       "    <tr>\n",
       "      <th>22</th>\n",
       "      <td>72</td>\n",
       "      <td>?</td>\n",
       "      <td>132015</td>\n",
       "      <td>7th-8th</td>\n",
       "      <td>4</td>\n",
       "      <td>Divorced</td>\n",
       "      <td>?</td>\n",
       "      <td>Not-in-family</td>\n",
       "      <td>White</td>\n",
       "      <td>Female</td>\n",
       "      <td>0</td>\n",
       "      <td>0</td>\n",
       "      <td>6</td>\n",
       "      <td>United-States</td>\n",
       "      <td>&lt;=50K</td>\n",
       "    </tr>\n",
       "    <tr>\n",
       "      <th>...</th>\n",
       "      <td>...</td>\n",
       "      <td>...</td>\n",
       "      <td>...</td>\n",
       "      <td>...</td>\n",
       "      <td>...</td>\n",
       "      <td>...</td>\n",
       "      <td>...</td>\n",
       "      <td>...</td>\n",
       "      <td>...</td>\n",
       "      <td>...</td>\n",
       "      <td>...</td>\n",
       "      <td>...</td>\n",
       "      <td>...</td>\n",
       "      <td>...</td>\n",
       "      <td>...</td>\n",
       "    </tr>\n",
       "    <tr>\n",
       "      <th>48811</th>\n",
       "      <td>35</td>\n",
       "      <td>?</td>\n",
       "      <td>320084</td>\n",
       "      <td>Bachelors</td>\n",
       "      <td>13</td>\n",
       "      <td>Married-civ-spouse</td>\n",
       "      <td>?</td>\n",
       "      <td>Wife</td>\n",
       "      <td>White</td>\n",
       "      <td>Female</td>\n",
       "      <td>0</td>\n",
       "      <td>0</td>\n",
       "      <td>55</td>\n",
       "      <td>United-States</td>\n",
       "      <td>&gt;50K</td>\n",
       "    </tr>\n",
       "    <tr>\n",
       "      <th>48812</th>\n",
       "      <td>30</td>\n",
       "      <td>?</td>\n",
       "      <td>33811</td>\n",
       "      <td>Bachelors</td>\n",
       "      <td>13</td>\n",
       "      <td>Never-married</td>\n",
       "      <td>?</td>\n",
       "      <td>Not-in-family</td>\n",
       "      <td>Asian-Pac-Islander</td>\n",
       "      <td>Female</td>\n",
       "      <td>0</td>\n",
       "      <td>0</td>\n",
       "      <td>99</td>\n",
       "      <td>United-States</td>\n",
       "      <td>&lt;=50K</td>\n",
       "    </tr>\n",
       "    <tr>\n",
       "      <th>48820</th>\n",
       "      <td>71</td>\n",
       "      <td>?</td>\n",
       "      <td>287372</td>\n",
       "      <td>Doctorate</td>\n",
       "      <td>16</td>\n",
       "      <td>Married-civ-spouse</td>\n",
       "      <td>?</td>\n",
       "      <td>Husband</td>\n",
       "      <td>White</td>\n",
       "      <td>Male</td>\n",
       "      <td>0</td>\n",
       "      <td>0</td>\n",
       "      <td>10</td>\n",
       "      <td>United-States</td>\n",
       "      <td>&gt;50K</td>\n",
       "    </tr>\n",
       "    <tr>\n",
       "      <th>48822</th>\n",
       "      <td>41</td>\n",
       "      <td>?</td>\n",
       "      <td>202822</td>\n",
       "      <td>HS-grad</td>\n",
       "      <td>9</td>\n",
       "      <td>Separated</td>\n",
       "      <td>?</td>\n",
       "      <td>Not-in-family</td>\n",
       "      <td>Black</td>\n",
       "      <td>Female</td>\n",
       "      <td>0</td>\n",
       "      <td>0</td>\n",
       "      <td>32</td>\n",
       "      <td>United-States</td>\n",
       "      <td>&lt;=50K</td>\n",
       "    </tr>\n",
       "    <tr>\n",
       "      <th>48823</th>\n",
       "      <td>72</td>\n",
       "      <td>?</td>\n",
       "      <td>129912</td>\n",
       "      <td>HS-grad</td>\n",
       "      <td>9</td>\n",
       "      <td>Married-civ-spouse</td>\n",
       "      <td>?</td>\n",
       "      <td>Husband</td>\n",
       "      <td>White</td>\n",
       "      <td>Male</td>\n",
       "      <td>0</td>\n",
       "      <td>0</td>\n",
       "      <td>25</td>\n",
       "      <td>United-States</td>\n",
       "      <td>&lt;=50K</td>\n",
       "    </tr>\n",
       "  </tbody>\n",
       "</table>\n",
       "<p>3620 rows × 15 columns</p>\n",
       "</div>"
      ],
      "text/plain": [
       "       age workclass  fnlwgt     education  educational-num  \\\n",
       "4       18         ?  103497  Some-college               10   \n",
       "6       29         ?  227026       HS-grad                9   \n",
       "13      58         ?  299831       HS-grad                9   \n",
       "19      40   Private   85019     Doctorate               16   \n",
       "22      72         ?  132015       7th-8th                4   \n",
       "...    ...       ...     ...           ...              ...   \n",
       "48811   35         ?  320084     Bachelors               13   \n",
       "48812   30         ?   33811     Bachelors               13   \n",
       "48820   71         ?  287372     Doctorate               16   \n",
       "48822   41         ?  202822       HS-grad                9   \n",
       "48823   72         ?  129912       HS-grad                9   \n",
       "\n",
       "           marital-status      occupation   relationship                race  \\\n",
       "4           Never-married               ?      Own-child               White   \n",
       "6           Never-married               ?      Unmarried               Black   \n",
       "13     Married-civ-spouse               ?        Husband               White   \n",
       "19     Married-civ-spouse  Prof-specialty        Husband  Asian-Pac-Islander   \n",
       "22               Divorced               ?  Not-in-family               White   \n",
       "...                   ...             ...            ...                 ...   \n",
       "48811  Married-civ-spouse               ?           Wife               White   \n",
       "48812       Never-married               ?  Not-in-family  Asian-Pac-Islander   \n",
       "48820  Married-civ-spouse               ?        Husband               White   \n",
       "48822           Separated               ?  Not-in-family               Black   \n",
       "48823  Married-civ-spouse               ?        Husband               White   \n",
       "\n",
       "       gender  capital-gain  capital-loss  hours-per-week native-country  \\\n",
       "4      Female             0             0              30  United-States   \n",
       "6        Male             0             0              40  United-States   \n",
       "13       Male             0             0              35  United-States   \n",
       "19       Male             0             0              45              ?   \n",
       "22     Female             0             0               6  United-States   \n",
       "...       ...           ...           ...             ...            ...   \n",
       "48811  Female             0             0              55  United-States   \n",
       "48812  Female             0             0              99  United-States   \n",
       "48820    Male             0             0              10  United-States   \n",
       "48822  Female             0             0              32  United-States   \n",
       "48823    Male             0             0              25  United-States   \n",
       "\n",
       "      income  \n",
       "4      <=50K  \n",
       "6      <=50K  \n",
       "13     <=50K  \n",
       "19      >50K  \n",
       "22     <=50K  \n",
       "...      ...  \n",
       "48811   >50K  \n",
       "48812  <=50K  \n",
       "48820   >50K  \n",
       "48822  <=50K  \n",
       "48823  <=50K  \n",
       "\n",
       "[3620 rows x 15 columns]"
      ]
     },
     "execution_count": 4,
     "metadata": {},
     "output_type": "execute_result"
    }
   ],
   "source": [
    "# Можно заметить, что некоторые значения в столбцам категориальных признаков пропущены и равны '?'. Посмотрим, сколько таких строк\n",
    "\n",
    "df[(df[cat_cols] == '?').any(axis=1)]"
   ]
  },
  {
   "cell_type": "code",
   "execution_count": 5,
   "metadata": {},
   "outputs": [],
   "source": [
    "# Пропусков не так много, для нашей задачи их можно удалить\n",
    "\n",
    "df.drop(df[(df[cat_cols] == '?').any(axis=1)].index, inplace=True)"
   ]
  },
  {
   "cell_type": "markdown",
   "metadata": {},
   "source": [
    "***"
   ]
  },
  {
   "cell_type": "markdown",
   "metadata": {},
   "source": [
    "### Формирование и проверка двухвыборочных гипотез\n",
    "\n",
    "**Уточнение:** проверка гипотез осуществляется исключительно на данных, представленных в текущем датасете. Сделанные выводы могут не отражать общую картину генеральной совокупности"
   ]
  },
  {
   "cell_type": "markdown",
   "metadata": {},
   "source": [
    "1. Влияет ли образование на уровень дохода (отличаются ли распределения уровней образования по доходам?) - дискретный - тест Пирсона (тест Хи-квадрат)\n",
    "2. Однородность выборок инвестиционного дохода и инвестиционных потерь; проверяем, одинаково ли распределены инвестиционные доходы и потери среди тех, кто в принципе занимается инвестиционной деятельностью - непрерывный - критерий Колмогорова-Смирнова\n",
    "3. Правда ли, что мужчины в среднем работают больше женщин (по часам в неделю)? - непрерывный - ранговый критерий Манна-Уитни\n",
    "4. Правда ли, что люди, регулярно перерабатывающие, зарабатывают больше? - дискретный - точный тест Фишера."
   ]
  },
  {
   "cell_type": "markdown",
   "metadata": {},
   "source": [
    "#### Гипотеза 1\n",
    "\n",
    "Зависит ли уровень дохода от образования? Сравним однородность распределения по уровням образования для людей с доходами >50K и <=50K\n",
    "\n",
    "- H0: распределение по уровню образования одинаково для людей с доходами >50K и <=50K\n",
    "- H1: между распределениями есть разница, образование влияет на уровень дохода\n",
    "\n",
    "Для проверки будем использовать непараметрический Хи-квадрат критерий Пирсона, т.к. он хорошо подходит для анализа количества исходов по разным категориям."
   ]
  },
  {
   "cell_type": "code",
   "execution_count": 6,
   "metadata": {},
   "outputs": [
    {
     "data": {
      "text/html": [
       "<div>\n",
       "<style scoped>\n",
       "    .dataframe tbody tr th:only-of-type {\n",
       "        vertical-align: middle;\n",
       "    }\n",
       "\n",
       "    .dataframe tbody tr th {\n",
       "        vertical-align: top;\n",
       "    }\n",
       "\n",
       "    .dataframe thead th {\n",
       "        text-align: right;\n",
       "    }\n",
       "</style>\n",
       "<table border=\"1\" class=\"dataframe\">\n",
       "  <thead>\n",
       "    <tr style=\"text-align: right;\">\n",
       "      <th>education</th>\n",
       "      <th>10th</th>\n",
       "      <th>11th</th>\n",
       "      <th>12th</th>\n",
       "      <th>1st-4th</th>\n",
       "      <th>5th-6th</th>\n",
       "      <th>7th-8th</th>\n",
       "      <th>9th</th>\n",
       "      <th>Assoc-acdm</th>\n",
       "      <th>Assoc-voc</th>\n",
       "      <th>Bachelors</th>\n",
       "      <th>Doctorate</th>\n",
       "      <th>HS-grad</th>\n",
       "      <th>Masters</th>\n",
       "      <th>Preschool</th>\n",
       "      <th>Prof-school</th>\n",
       "      <th>Some-college</th>\n",
       "    </tr>\n",
       "    <tr>\n",
       "      <th>income</th>\n",
       "      <th></th>\n",
       "      <th></th>\n",
       "      <th></th>\n",
       "      <th></th>\n",
       "      <th></th>\n",
       "      <th></th>\n",
       "      <th></th>\n",
       "      <th></th>\n",
       "      <th></th>\n",
       "      <th></th>\n",
       "      <th></th>\n",
       "      <th></th>\n",
       "      <th></th>\n",
       "      <th></th>\n",
       "      <th></th>\n",
       "      <th></th>\n",
       "    </tr>\n",
       "  </thead>\n",
       "  <tbody>\n",
       "    <tr>\n",
       "      <th>&lt;=50K</th>\n",
       "      <td>1141</td>\n",
       "      <td>1530</td>\n",
       "      <td>534</td>\n",
       "      <td>214</td>\n",
       "      <td>427</td>\n",
       "      <td>768</td>\n",
       "      <td>638</td>\n",
       "      <td>1109</td>\n",
       "      <td>1455</td>\n",
       "      <td>4392</td>\n",
       "      <td>145</td>\n",
       "      <td>12367</td>\n",
       "      <td>1121</td>\n",
       "      <td>71</td>\n",
       "      <td>193</td>\n",
       "      <td>7909</td>\n",
       "    </tr>\n",
       "    <tr>\n",
       "      <th>&gt;50K</th>\n",
       "      <td>82</td>\n",
       "      <td>89</td>\n",
       "      <td>43</td>\n",
       "      <td>8</td>\n",
       "      <td>22</td>\n",
       "      <td>55</td>\n",
       "      <td>38</td>\n",
       "      <td>398</td>\n",
       "      <td>504</td>\n",
       "      <td>3178</td>\n",
       "      <td>399</td>\n",
       "      <td>2416</td>\n",
       "      <td>1393</td>\n",
       "      <td>1</td>\n",
       "      <td>592</td>\n",
       "      <td>1990</td>\n",
       "    </tr>\n",
       "  </tbody>\n",
       "</table>\n",
       "</div>"
      ],
      "text/plain": [
       "education  10th  11th  12th  1st-4th  5th-6th  7th-8th  9th  Assoc-acdm  \\\n",
       "income                                                                    \n",
       "<=50K      1141  1530   534      214      427      768  638        1109   \n",
       ">50K         82    89    43        8       22       55   38         398   \n",
       "\n",
       "education  Assoc-voc  Bachelors  Doctorate  HS-grad  Masters  Preschool  \\\n",
       "income                                                                    \n",
       "<=50K           1455       4392        145    12367     1121         71   \n",
       ">50K             504       3178        399     2416     1393          1   \n",
       "\n",
       "education  Prof-school  Some-college  \n",
       "income                                \n",
       "<=50K              193          7909  \n",
       ">50K               592          1990  "
      ]
     },
     "execution_count": 6,
     "metadata": {},
     "output_type": "execute_result"
    }
   ],
   "source": [
    "df_ed_income = pd.pivot_table(df,\n",
    "               index='income',\n",
    "               columns='education',\n",
    "               values='fnlwgt',\n",
    "               aggfunc='count')\n",
    "df_ed_income"
   ]
  },
  {
   "cell_type": "code",
   "execution_count": 7,
   "metadata": {},
   "outputs": [
    {
     "data": {
      "text/html": [
       "<div>\n",
       "<style scoped>\n",
       "    .dataframe tbody tr th:only-of-type {\n",
       "        vertical-align: middle;\n",
       "    }\n",
       "\n",
       "    .dataframe tbody tr th {\n",
       "        vertical-align: top;\n",
       "    }\n",
       "\n",
       "    .dataframe thead th {\n",
       "        text-align: right;\n",
       "    }\n",
       "</style>\n",
       "<table border=\"1\" class=\"dataframe\">\n",
       "  <thead>\n",
       "    <tr style=\"text-align: right;\">\n",
       "      <th>education</th>\n",
       "      <th>High</th>\n",
       "      <th>Medium</th>\n",
       "      <th>Low</th>\n",
       "    </tr>\n",
       "    <tr>\n",
       "      <th>income</th>\n",
       "      <th></th>\n",
       "      <th></th>\n",
       "      <th></th>\n",
       "    </tr>\n",
       "  </thead>\n",
       "  <tbody>\n",
       "    <tr>\n",
       "      <th>&lt;=50K</th>\n",
       "      <td>8415</td>\n",
       "      <td>20276</td>\n",
       "      <td>5323</td>\n",
       "    </tr>\n",
       "    <tr>\n",
       "      <th>&gt;50K</th>\n",
       "      <td>6464</td>\n",
       "      <td>4406</td>\n",
       "      <td>338</td>\n",
       "    </tr>\n",
       "  </tbody>\n",
       "</table>\n",
       "</div>"
      ],
      "text/plain": [
       "education  High  Medium   Low\n",
       "income                       \n",
       "<=50K      8415   20276  5323\n",
       ">50K       6464    4406   338"
      ]
     },
     "execution_count": 7,
     "metadata": {},
     "output_type": "execute_result"
    }
   ],
   "source": [
    "# Выполним группировку по уровню образования\n",
    "df_ed_income['High'] = df_ed_income['Assoc-acdm'] + df_ed_income['Assoc-voc'] + df_ed_income['Prof-school'] + \\\n",
    "    df_ed_income['Bachelors'] + df_ed_income['Masters'] + df_ed_income['Doctorate']\n",
    "df_ed_income['Medium'] = df_ed_income['HS-grad'] + df_ed_income['Some-college']\n",
    "df_ed_income['Low'] = df_ed_income['Preschool'] + df_ed_income['1st-4th'] + df_ed_income['5th-6th'] + \\\n",
    "    df_ed_income['7th-8th'] + df_ed_income['9th'] + df_ed_income['10th'] + df_ed_income['11th'] + df_ed_income['12th']\n",
    "\n",
    "df_ed_income = df_ed_income[['High', 'Medium', 'Low']]\n",
    "df_ed_income"
   ]
  },
  {
   "cell_type": "code",
   "execution_count": 8,
   "metadata": {},
   "outputs": [
    {
     "name": "stdout",
     "output_type": "stream",
     "text": [
      "pvalue = 0.0\n",
      "Отклоняем нулевую гипотезу. Есть разница между распределениями, верояно уровень образования влияет на уровень дохода\n"
     ]
    }
   ],
   "source": [
    "pvalue = st.chi2_contingency(df_ed_income.values).pvalue\n",
    "if pvalue > alpha:\n",
    "    print(f'pvalue = {pvalue}\\nНе отклоняем нулевую гипотезу. Распределение количества людей по уровням образования одинаковы для дохода >50K и <=50K')\n",
    "else:\n",
    "    print(f'pvalue = {pvalue}\\nОтклоняем нулевую гипотезу. Есть разница между распределениями, верояно уровень образования влияет на уровень дохода')"
   ]
  },
  {
   "cell_type": "markdown",
   "metadata": {},
   "source": [
    "#### Гипотеза 2\n",
    "\n",
    "Среди тех людей, которые помимо основной работы занимаются инвестиционной деятельностью, проверим однородность распределения инвестиционных доходов и инвестиционных потерь\n",
    "\n",
    "- H0: распределения инвестиционных доходов и потерь однородны\n",
    "- H1: распределения инвестиционных доходов и потерь имеют различия\n",
    "\n",
    "Для проверки гипотезы используем двухвыборочный тест Колмогорова-Смирнова"
   ]
  },
  {
   "cell_type": "code",
   "execution_count": 9,
   "metadata": {},
   "outputs": [
    {
     "name": "stdout",
     "output_type": "stream",
     "text": [
      "pvalue = 0.0\n",
      "Отклоняем нулевую гипотезу. Есть разница между распределениями инвестиционных доходов и потерь\n"
     ]
    }
   ],
   "source": [
    "df_capital_gain = df.loc[df['capital-gain'] != 0]['capital-gain']\n",
    "df_capital_loss = df.loc[df['capital-loss'] != 0]['capital-loss']\n",
    "\n",
    "pvalue = st.ks_2samp(df_capital_gain, df_capital_loss).pvalue\n",
    "if pvalue > alpha:\n",
    "    print(f'pvalue = {pvalue}\\nНе отклоняем нулевую гипотезу. Инвестиционные доходы и потери распределены одинаково')\n",
    "else:\n",
    "    print(f'pvalue = {pvalue}\\nОтклоняем нулевую гипотезу. Есть разница между распределениями инвестиционных доходов и потерь')"
   ]
  },
  {
   "cell_type": "code",
   "execution_count": 11,
   "metadata": {},
   "outputs": [
    {
     "data": {
      "image/png": "[encoded data removed]",
      "text/plain": [
       "<Figure size 500x500 with 1 Axes>"
      ]
     },
     "metadata": {},
     "output_type": "display_data"
    },
    {
     "data": {
      "image/png": "[encoded data removed]",
      "text/plain": [
       "<Figure size 500x500 with 1 Axes>"
      ]
     },
     "metadata": {},
     "output_type": "display_data"
    }
   ],
   "source": [
    "# провалидируем результаты визуально\n",
    "sns.displot(df_capital_gain, kde=True)\n",
    "sns.displot(df_capital_loss, kde=True);"
   ]
  },
  {
   "cell_type": "markdown",
   "metadata": {},
   "source": [
    "#### Гипотеза 3\n",
    "\n",
    "Правда ли то, что мужчины, в среднем, работают больше женщин?\n",
    "\n",
    "- H0: Мужчины и женщины, в среднем, работают одинаковое количество часов\n",
    "- H1: Мужчины, в среднем, работают больше женщин\n",
    "\n",
    "Выборки имеют различное распределение, отличное от нормального. Для проверки будем использовать критерий Уилкоксона-Манна-Уитни для двух независимых выборок, а также отдельно для каждой выборки применим одновыборочный критерий Уилкоксона"
   ]
  },
  {
   "cell_type": "code",
   "execution_count": 12,
   "metadata": {},
   "outputs": [],
   "source": [
    "n = 3000\n",
    "df_male_hpw = df.loc[df['gender'] == 'Male']['hours-per-week'].sample(n)\n",
    "df_female_hpw = df.loc[df['gender'] == 'Female']['hours-per-week'].sample(n)"
   ]
  },
  {
   "cell_type": "code",
   "execution_count": 13,
   "metadata": {},
   "outputs": [
    {
     "data": {
      "image/png": "[encoded data removed]",
      "text/plain": [
       "<Figure size 640x480 with 1 Axes>"
      ]
     },
     "metadata": {},
     "output_type": "display_data"
    }
   ],
   "source": [
    "sns.kdeplot(df_male_hpw, label='Male')\n",
    "sns.kdeplot(df_female_hpw, label='Femail')\n",
    "plt.legend();"
   ]
  },
  {
   "cell_type": "code",
   "execution_count": 14,
   "metadata": {},
   "outputs": [
    {
     "data": {
      "text/plain": [
       "(42.69266666666667, 37.022)"
      ]
     },
     "execution_count": 14,
     "metadata": {},
     "output_type": "execute_result"
    }
   ],
   "source": [
    "# выборки имеют одинаковые медианы, но различные средние из-за неоднородности распределений\n",
    "df_male_hpw.mean(), df_female_hpw.mean()"
   ]
  },
  {
   "cell_type": "code",
   "execution_count": 15,
   "metadata": {},
   "outputs": [
    {
     "data": {
      "text/plain": [
       "WilcoxonResult(statistic=2164567.5, pvalue=0.2762395767908902)"
      ]
     },
     "execution_count": 15,
     "metadata": {},
     "output_type": "execute_result"
    }
   ],
   "source": [
    "# Одновыборочный критерий ранговых знаков Уилкоксона,\n",
    "# не отлоняем нулевую гипотезу при среднем значении выборки 42\n",
    "st.wilcoxon(df_male_hpw - 42)"
   ]
  },
  {
   "cell_type": "code",
   "execution_count": 16,
   "metadata": {},
   "outputs": [
    {
     "data": {
      "text/plain": [
       "WilcoxonResult(statistic=2172113.5, pvalue=0.14268880087068272)"
      ]
     },
     "execution_count": 16,
     "metadata": {},
     "output_type": "execute_result"
    }
   ],
   "source": [
    "# Одновыборочный критерий ранговых знаков Уилкоксона,\n",
    "# не отлоняем нулевую гипотезу при среднем значении выборки 39\n",
    "st.wilcoxon(df_female_hpw - 39)"
   ]
  },
  {
   "cell_type": "code",
   "execution_count": 17,
   "metadata": {},
   "outputs": [
    {
     "name": "stdout",
     "output_type": "stream",
     "text": [
      "pvalue = 2.6396342519337848e-104\n",
      "Отклоняем нулевую гипотезу. Мужчины в среднем работают больше\n"
     ]
    }
   ],
   "source": [
    "pvalue = st.mannwhitneyu(df_male_hpw, df_female_hpw, alternative='greater').pvalue\n",
    "if pvalue > alpha:\n",
    "    print(f'pvalue = {pvalue}\\nНе отклоняем нулевую гипотезу. Мужчины и женщины в среднем работают одинаковое количество часов')\n",
    "else:\n",
    "    print(f'pvalue = {pvalue}\\nОтклоняем нулевую гипотезу. Мужчины в среднем работают больше')"
   ]
  },
  {
   "cell_type": "code",
   "execution_count": 18,
   "metadata": {},
   "outputs": [
    {
     "data": {
      "text/plain": [
       "3.0303030303030303"
      ]
     },
     "execution_count": 18,
     "metadata": {},
     "output_type": "execute_result"
    }
   ],
   "source": [
    "# Найдем сдвиг среднего между выборками\n",
    "shift_dict = {}\n",
    "for shift in np.linspace(0, 20, num=100):\n",
    "    shift_dict[shift] = st.mannwhitneyu(df_male_hpw-shift, df_female_hpw, alternative='two-sided').pvalue\n",
    "\n",
    "shift_max = list(shift_dict.keys())[np.argmax(list(shift_dict.values()))]\n",
    "shift_max"
   ]
  },
  {
   "cell_type": "code",
   "execution_count": 19,
   "metadata": {},
   "outputs": [
    {
     "data": {
      "text/plain": [
       "MannwhitneyuResult(statistic=4477775.0, pvalue=0.7370245893706382)"
      ]
     },
     "execution_count": 19,
     "metadata": {},
     "output_type": "execute_result"
    }
   ],
   "source": [
    "# Подтверждение H0 с учетом вычисленного сдвига\n",
    "st.mannwhitneyu(df_male_hpw - shift_max, df_female_hpw, alternative='two-sided')"
   ]
  },
  {
   "cell_type": "markdown",
   "metadata": {},
   "source": [
    "#### Гипотеза 4\n",
    "\n",
    "Правда ли, что люди, регулярно перерабатывающие, зарабатывают больше?\n",
    "\n",
    "- H0: Переработки не влияют на уровень зарплаты\n",
    "- H1: Имеется зависимость между количеством рабочих часов и зарплатой\n",
    "\n",
    "Для ответа на этот вопрос возьмем две выборки: с зарплатой <=50K и >50K. Для каждой выборки посчитаем количество человек, работающих <=40 часов в неделю и >40.\n",
    "Сведем эти данные в таблицу сопряженности. Для анализа подобных таблиц сопряженности небольшого размера хорошо подходит точный тест Фишера."
   ]
  },
  {
   "cell_type": "code",
   "execution_count": 20,
   "metadata": {},
   "outputs": [
    {
     "data": {
      "text/plain": [
       "[[25806, 8208], [5639, 5569]]"
      ]
     },
     "execution_count": 20,
     "metadata": {},
     "output_type": "execute_result"
    }
   ],
   "source": [
    "x = [\n",
    "    [df.loc[(df['income'] == '<=50K') & (df['hours-per-week'] <= 40)].shape[0],\n",
    "     df.loc[(df['income'] == '<=50K') & (df['hours-per-week'] > 40)].shape[0]],\n",
    "    [df.loc[(df['income'] == '>50K') & (df['hours-per-week'] <= 40)].shape[0],\n",
    "     df.loc[(df['income'] == '>50K') & (df['hours-per-week'] > 40)].shape[0]]\n",
    "]\n",
    "x"
   ]
  },
  {
   "cell_type": "code",
   "execution_count": 21,
   "metadata": {},
   "outputs": [
    {
     "name": "stdout",
     "output_type": "stream",
     "text": [
      "pvalue = 0.0\n",
      "Отклоняем нулевую гипотезу. Вероятно, есть некоторая зависимость\n"
     ]
    }
   ],
   "source": [
    "# Точный тест Фишера\n",
    "pvalue = st.fisher_exact(x).pvalue\n",
    "if pvalue > alpha:\n",
    "    print(f'pvalue = {pvalue}\\nНе отклоняем нулевую гипотезу. Переработки не влияют на уровень заработной платы')\n",
    "else:\n",
    "    print(f'pvalue = {pvalue}\\nОтклоняем нулевую гипотезу. Вероятно, есть некоторая зависимость')"
   ]
  },
  {
   "cell_type": "code",
   "execution_count": 22,
   "metadata": {},
   "outputs": [
    {
     "name": "stdout",
     "output_type": "stream",
     "text": [
      "pvalue = 0.0\n",
      "Отклоняем нулевую гипотезу. Вероятно, есть некоторая зависимость\n"
     ]
    }
   ],
   "source": [
    "# Дополнително проверим тестом Хи-квадрат\n",
    "pvalue = st.chi2_contingency(x).pvalue\n",
    "if pvalue > alpha:\n",
    "    print(f'pvalue = {pvalue}\\nНе отклоняем нулевую гипотезу. Переработки не влияют на уровень заработной платы')\n",
    "else:\n",
    "    print(f'pvalue = {pvalue}\\nОтклоняем нулевую гипотезу. Вероятно, есть некоторая зависимость')"
   ]
  },
  {
   "cell_type": "markdown",
   "metadata": {},
   "source": [
    "### Сравнение полученных результатов с бутстрепом"
   ]
  },
  {
   "cell_type": "code",
   "execution_count": 23,
   "metadata": {},
   "outputs": [],
   "source": [
    "def bootstrap_ci_2samp(r1, r2, type='mean', iter=1000, alpha=0.05):\n",
    "    \"\"\"Доверительный интервал распределения разниц выбранной метрики двух выборок\"\"\"\n",
    "    r_list = []\n",
    "    for i in range(iter + 1):\n",
    "        r1_ = np.random.choice(r1, size=r1.shape[0], replace=True)\n",
    "        r2_ = np.random.choice(r2, size=r2.shape[0], replace=True)\n",
    "        if type == 'mode':\n",
    "            r_list.append(sts.mode(r1_)[0] - sts.mode(r2_)[0])\n",
    "        elif type == 'median':\n",
    "            r_list.append(np.median(r1_) - np.median(r2_))\n",
    "        elif type == 'var':\n",
    "            r_list.append(np.var(r1_) - np.var(r2_))\n",
    "        else:\n",
    "            r_list.append(np.mean(r1_) - np.mean(r2_))\n",
    "    left, right = np.percentile(r_list, q=[round(alpha*50, 1), round(100 - alpha*50, 1)])\n",
    "    return left, right"
   ]
  },
  {
   "cell_type": "markdown",
   "metadata": {},
   "source": [
    "#### Гипотеза 1 (бутстреп)"
   ]
  },
  {
   "cell_type": "code",
   "execution_count": 24,
   "metadata": {},
   "outputs": [
    {
     "data": {
      "text/html": [
       "<div>\n",
       "<style scoped>\n",
       "    .dataframe tbody tr th:only-of-type {\n",
       "        vertical-align: middle;\n",
       "    }\n",
       "\n",
       "    .dataframe tbody tr th {\n",
       "        vertical-align: top;\n",
       "    }\n",
       "\n",
       "    .dataframe thead th {\n",
       "        text-align: right;\n",
       "    }\n",
       "</style>\n",
       "<table border=\"1\" class=\"dataframe\">\n",
       "  <thead>\n",
       "    <tr style=\"text-align: right;\">\n",
       "      <th>education</th>\n",
       "      <th>High</th>\n",
       "      <th>Medium</th>\n",
       "      <th>Low</th>\n",
       "    </tr>\n",
       "    <tr>\n",
       "      <th>income</th>\n",
       "      <th></th>\n",
       "      <th></th>\n",
       "      <th></th>\n",
       "    </tr>\n",
       "  </thead>\n",
       "  <tbody>\n",
       "    <tr>\n",
       "      <th>&lt;=50K</th>\n",
       "      <td>8415</td>\n",
       "      <td>20276</td>\n",
       "      <td>5323</td>\n",
       "    </tr>\n",
       "    <tr>\n",
       "      <th>&gt;50K</th>\n",
       "      <td>6464</td>\n",
       "      <td>4406</td>\n",
       "      <td>338</td>\n",
       "    </tr>\n",
       "  </tbody>\n",
       "</table>\n",
       "</div>"
      ],
      "text/plain": [
       "education  High  Medium   Low\n",
       "income                       \n",
       "<=50K      8415   20276  5323\n",
       ">50K       6464    4406   338"
      ]
     },
     "execution_count": 24,
     "metadata": {},
     "output_type": "execute_result"
    }
   ],
   "source": [
    "df_ed_income"
   ]
  },
  {
   "cell_type": "code",
   "execution_count": 25,
   "metadata": {},
   "outputs": [
    {
     "name": "stdout",
     "output_type": "stream",
     "text": [
      "Bootstrap CI: (575.666666666667, 14953.666666666666)\n",
      "Отклоняем H0, есть статистически значимые различия\n"
     ]
    }
   ],
   "source": [
    "left, right = bootstrap_ci_2samp(df_ed_income.values[0], df_ed_income.values[1])\n",
    "print(f'Bootstrap CI: ({left}, {right})')\n",
    "if (left < 0 < right):\n",
    "    print('Не отклоняем H0, статистически значимых различий нет')\n",
    "else:\n",
    "    print('Отклоняем H0, есть статистически значимые различия')"
   ]
  },
  {
   "cell_type": "markdown",
   "metadata": {},
   "source": [
    "**Вывод:** результаты бутстрепа совпадают с результатами базового статистического теста"
   ]
  },
  {
   "cell_type": "markdown",
   "metadata": {},
   "source": [
    "#### Гипотеза 2 (бутстреп)"
   ]
  },
  {
   "cell_type": "code",
   "execution_count": 26,
   "metadata": {},
   "outputs": [
    {
     "data": {
      "text/plain": [
       "(3         7688\n",
       " 7         3103\n",
       " 10        6418\n",
       " 14        3103\n",
       " 25        7298\n",
       "          ...  \n",
       " 48796     3471\n",
       " 48799    99999\n",
       " 48819    15020\n",
       " 48829     1086\n",
       " 48841    15024\n",
       " Name: capital-gain, Length: 3790, dtype: int64,\n",
       " 52       1721\n",
       " 82       1876\n",
       " 129      2415\n",
       " 143      1887\n",
       " 154      1887\n",
       "          ... \n",
       " 48722    1887\n",
       " 48724    1602\n",
       " 48726    1669\n",
       " 48739    1977\n",
       " 48781     880\n",
       " Name: capital-loss, Length: 2140, dtype: int64)"
      ]
     },
     "execution_count": 26,
     "metadata": {},
     "output_type": "execute_result"
    }
   ],
   "source": [
    "df_capital_gain, df_capital_loss"
   ]
  },
  {
   "cell_type": "code",
   "execution_count": 27,
   "metadata": {},
   "outputs": [
    {
     "name": "stdout",
     "output_type": "stream",
     "text": [
      "Bootstrap CI: (10513.874354548369, 11952.37044238404)\n",
      "Отклоняем H0, есть статистически значимые различия\n"
     ]
    }
   ],
   "source": [
    "left, right = bootstrap_ci_2samp(df_capital_gain, df_capital_loss)\n",
    "print(f'Bootstrap CI: ({left}, {right})')\n",
    "if (left < 0 < right):\n",
    "    print('Не отклоняем H0, статистически значимых различий нет')\n",
    "else:\n",
    "    print('Отклоняем H0, есть статистически значимые различия')"
   ]
  },
  {
   "cell_type": "markdown",
   "metadata": {},
   "source": [
    "**Вывод:** результаты бутстрепа совпадают с результатами базового статистического теста"
   ]
  },
  {
   "cell_type": "markdown",
   "metadata": {},
   "source": [
    "#### Гипотеза 3"
   ]
  },
  {
   "cell_type": "code",
   "execution_count": 28,
   "metadata": {},
   "outputs": [
    {
     "data": {
      "text/plain": [
       "(11154    60\n",
       " 853      50\n",
       " 6555     40\n",
       " 43275    45\n",
       " 4985     40\n",
       "          ..\n",
       " 42667    45\n",
       " 41052    40\n",
       " 22097    45\n",
       " 29214    55\n",
       " 42177    40\n",
       " Name: hours-per-week, Length: 3000, dtype: int64,\n",
       " 33047    40\n",
       " 47074    10\n",
       " 38167    40\n",
       " 9655     40\n",
       " 38119    55\n",
       "          ..\n",
       " 16347    40\n",
       " 15901    40\n",
       " 7090     40\n",
       " 19960    20\n",
       " 28888    40\n",
       " Name: hours-per-week, Length: 3000, dtype: int64)"
      ]
     },
     "execution_count": 28,
     "metadata": {},
     "output_type": "execute_result"
    }
   ],
   "source": [
    "df_male_hpw, df_female_hpw"
   ]
  },
  {
   "cell_type": "code",
   "execution_count": 29,
   "metadata": {},
   "outputs": [
    {
     "name": "stdout",
     "output_type": "stream",
     "text": [
      "Bootstrap CI: (5.086999999999996, 6.2506666666666675)\n",
      "Отклоняем H0, есть статистически значимые различия\n"
     ]
    }
   ],
   "source": [
    "left, right = bootstrap_ci_2samp(df_male_hpw, df_female_hpw)\n",
    "print(f'Bootstrap CI: ({left}, {right})')\n",
    "if (left < 0 < right):\n",
    "    print('Не отклоняем H0, статистически значимых различий нет')\n",
    "else:\n",
    "    print('Отклоняем H0, есть статистически значимые различия')"
   ]
  },
  {
   "cell_type": "markdown",
   "metadata": {},
   "source": [
    "**Вывод:** результаты бутстрепа совпадают с результатами базового статистического теста"
   ]
  },
  {
   "cell_type": "markdown",
   "metadata": {},
   "source": [
    "#### Гипотеза 4"
   ]
  },
  {
   "cell_type": "code",
   "execution_count": 30,
   "metadata": {},
   "outputs": [
    {
     "data": {
      "text/plain": [
       "array([[25806,  8208],\n",
       "       [ 5639,  5569]])"
      ]
     },
     "execution_count": 30,
     "metadata": {},
     "output_type": "execute_result"
    }
   ],
   "source": [
    "x = np.array(x)\n",
    "x"
   ]
  },
  {
   "cell_type": "code",
   "execution_count": 31,
   "metadata": {},
   "outputs": [
    {
     "name": "stdout",
     "output_type": "stream",
     "text": [
      "Bootstrap CI: (2569.0, 20237.0)\n",
      "Отклоняем H0, есть статистически значимые различия\n"
     ]
    }
   ],
   "source": [
    "left, right = bootstrap_ci_2samp(x[0], x[1])\n",
    "print(f'Bootstrap CI: ({left}, {right})')\n",
    "if (left < 0 < right):\n",
    "    print('Не отклоняем H0, статистически значимых различий нет')\n",
    "else:\n",
    "    print('Отклоняем H0, есть статистически значимые различия')"
   ]
  },
  {
   "cell_type": "markdown",
   "metadata": {},
   "source": [
    "**Вывод:** результаты бутстрепа совпадают с результатами базового статистического теста"
   ]
  },
  {
   "cell_type": "markdown",
   "metadata": {},
   "source": [
    "### Выводы о мощности проведенных базовых статистических тестах и бутстрепа"
   ]
  },
  {
   "cell_type": "markdown",
   "metadata": {},
   "source": [
    "Под мощностью теста подразумеваем вероятность принятия альтернативной гипотезы H1, когда она верна.\n",
    "\n",
    "Во всех выполненных тестах мы отклонили H0 в пользу принятия H1, поэтому сравним количество принятия гипотез H1 для каждого вышерассмотренного кейса"
   ]
  },
  {
   "cell_type": "markdown",
   "metadata": {},
   "source": [
    "#### Гипотеза 1"
   ]
  },
  {
   "cell_type": "code",
   "execution_count": 32,
   "metadata": {},
   "outputs": [
    {
     "name": "stderr",
     "output_type": "stream",
     "text": [
      "100%|██████████| 1000/1000 [00:45<00:00, 22.20it/s]\n"
     ]
    }
   ],
   "source": [
    "c_test = c_bootstrap = 0 # количество принятий H1\n",
    "i = 1000 # количество тестов\n",
    "\n",
    "for _ in tqdm(range(0, i)):\n",
    "    if st.chi2_contingency(df_ed_income.values).pvalue < alpha:\n",
    "        c_test += 1\n",
    "    left, right = bootstrap_ci_2samp(df_ed_income.values[0], df_ed_income.values[1])\n",
    "    if not (left < 0 < right):\n",
    "        c_bootstrap += 1"
   ]
  },
  {
   "cell_type": "code",
   "execution_count": 33,
   "metadata": {},
   "outputs": [
    {
     "data": {
      "text/plain": [
       "(1000, 1000)"
      ]
     },
     "execution_count": 33,
     "metadata": {},
     "output_type": "execute_result"
    }
   ],
   "source": [
    "c_test, c_bootstrap"
   ]
  },
  {
   "cell_type": "markdown",
   "metadata": {},
   "source": [
    "**Вывод:** для рассмотренного кейса мощность бутстреп и базового статистического теста примерно равны"
   ]
  },
  {
   "cell_type": "markdown",
   "metadata": {},
   "source": [
    "#### Гипотеза 2"
   ]
  },
  {
   "cell_type": "code",
   "execution_count": 34,
   "metadata": {},
   "outputs": [
    {
     "name": "stderr",
     "output_type": "stream",
     "text": [
      "100%|██████████| 1000/1000 [02:51<00:00,  5.82it/s]\n"
     ]
    }
   ],
   "source": [
    "c_test = c_bootstrap = 0 # количество принятий H1\n",
    "i = 1000 # количество тестов\n",
    "\n",
    "for _ in tqdm(range(0, i)):\n",
    "    if st.ks_2samp(df_capital_gain, df_capital_loss).pvalue < alpha:\n",
    "        c_test += 1\n",
    "    left, right = bootstrap_ci_2samp(df_capital_gain, df_capital_loss)\n",
    "    if not (left < 0 < right):\n",
    "        c_bootstrap += 1"
   ]
  },
  {
   "cell_type": "code",
   "execution_count": 35,
   "metadata": {},
   "outputs": [
    {
     "data": {
      "text/plain": [
       "(1000, 1000)"
      ]
     },
     "execution_count": 35,
     "metadata": {},
     "output_type": "execute_result"
    }
   ],
   "source": [
    "c_test, c_bootstrap"
   ]
  },
  {
   "cell_type": "markdown",
   "metadata": {},
   "source": [
    "**Вывод:** для рассмотренного кейса мощность бутстреп и базового статистического теста примерно равны"
   ]
  },
  {
   "cell_type": "markdown",
   "metadata": {},
   "source": [
    "#### Гипотеза 3"
   ]
  },
  {
   "cell_type": "code",
   "execution_count": 36,
   "metadata": {},
   "outputs": [
    {
     "name": "stderr",
     "output_type": "stream",
     "text": [
      "100%|██████████| 1000/1000 [02:17<00:00,  7.29it/s]\n"
     ]
    }
   ],
   "source": [
    "c_test = c_bootstrap = 0 # количество принятий H1\n",
    "i = 1000 # количество тестов\n",
    "\n",
    "for _ in tqdm(range(0, i)):\n",
    "    if st.mannwhitneyu(df_male_hpw, df_female_hpw, alternative='greater').pvalue < alpha:\n",
    "        c_test += 1\n",
    "    left, right = bootstrap_ci_2samp(df_male_hpw, df_female_hpw)\n",
    "    if not (left < 0 < right):\n",
    "        c_bootstrap += 1"
   ]
  },
  {
   "cell_type": "code",
   "execution_count": 37,
   "metadata": {},
   "outputs": [
    {
     "data": {
      "text/plain": [
       "(1000, 1000)"
      ]
     },
     "execution_count": 37,
     "metadata": {},
     "output_type": "execute_result"
    }
   ],
   "source": [
    "c_test, c_bootstrap"
   ]
  },
  {
   "cell_type": "markdown",
   "metadata": {},
   "source": [
    "**Вывод:** для рассмотренного кейса мощность бутстреп и базового статистического теста примерно равны"
   ]
  },
  {
   "cell_type": "markdown",
   "metadata": {},
   "source": [
    "#### Гипотеза 4"
   ]
  },
  {
   "cell_type": "code",
   "execution_count": 38,
   "metadata": {},
   "outputs": [
    {
     "name": "stderr",
     "output_type": "stream",
     "text": [
      "100%|██████████| 1000/1000 [00:45<00:00, 21.93it/s]\n"
     ]
    }
   ],
   "source": [
    "c_test = c_bootstrap = 0 # количество принятий H1\n",
    "i = 1000 # количество тестов\n",
    "\n",
    "for _ in tqdm(range(0, i)):\n",
    "    if st.fisher_exact(x).pvalue < alpha:\n",
    "        c_test += 1\n",
    "    left, right = bootstrap_ci_2samp(x[0], x[1])\n",
    "    if not (left < 0 < right):\n",
    "        c_bootstrap += 1"
   ]
  },
  {
   "cell_type": "code",
   "execution_count": 39,
   "metadata": {},
   "outputs": [
    {
     "data": {
      "text/plain": [
       "(1000, 1000)"
      ]
     },
     "execution_count": 39,
     "metadata": {},
     "output_type": "execute_result"
    }
   ],
   "source": [
    "c_test, c_bootstrap"
   ]
  },
  {
   "cell_type": "markdown",
   "metadata": {},
   "source": [
    "**Вывод:** для рассмотренного кейса мощность бутстреп и базового статистического теста примерно равны"
   ]
  }
 ],
 "metadata": {
  "kernelspec": {
   "display_name": "Python 3",
   "language": "python",
   "name": "python3"
  },
  "language_info": {
   "codemirror_mode": {
    "name": "ipython",
    "version": 3
   },
   "file_extension": ".py",
   "mimetype": "text/x-python",
   "name": "python",
   "nbconvert_exporter": "python",
   "pygments_lexer": "ipython3",
   "version": "3.11.1"
  },
  "orig_nbformat": 4
 },
 "nbformat": 4,
 "nbformat_minor": 2
}
