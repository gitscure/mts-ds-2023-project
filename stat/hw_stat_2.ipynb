{
 "cells": [
  {
   "cell_type": "markdown",
   "metadata": {},
   "source": [
    "# Домашнее задание ШАД МТС по теме ТВиМС 2"
   ]
  },
  {
   "cell_type": "markdown",
   "metadata": {},
   "source": [
    "## Задание 1\n",
    "\n",
    "Правильная монетка подбрасывается до тех пор, пока не выпадет $n$ орлов подряд. Найти математическое ожидание необходимого числа бросков."
   ]
  },
  {
   "cell_type": "markdown",
   "metadata": {},
   "source": [
    "### Решение\n",
    "\n",
    "Пусть $S$ - среднее число бросков правильной монетки до выпадения $n$ орлов подряд, а $S_i$ - среднее число бросков правильной монетки до выпадения $n$ орлов подряд при условии, что до этого выпало $n - 1$ орлов.\n",
    "\n",
    "Тогда можно записать, что\n",
    "\n",
    "$$S = \\frac{S + 1}{2} + \\frac{S_1}{2}$$\n",
    "\n",
    "$$S_1 = \\frac{S + 1}{2} + \\frac{S_2}{2}$$\n",
    "\n",
    "$$S_2 = \\frac{S + 1}{2} + \\frac{S_3}{2}$$\n",
    "\n",
    "$$\\dots$$\n",
    "\n",
    "$$S_{n-1} = \\frac{S + 1}{2} + \\frac{S_n}{2}$$"
   ]
  },
  {
   "cell_type": "markdown",
   "metadata": {},
   "source": [
    "Выразим k-й член через k+1-й\n",
    "\n",
    "$$\\frac{S_k + 1}{2} = \\frac{\\frac{S_{k+1} + 1}{2}}{2} + \\frac{\\frac{S + 3}{2}}{2}$$\n",
    "\n",
    "и подставим в S\n",
    "\n",
    "$$S = \\frac{S + 1}{2} + \\frac{S_1}{2} = \\frac{S + 1}{2} + \\frac{\\frac{S_{2} + 1}{2}}{2} + \\frac{\\frac{S + 3}{2}}{2} = \\frac{S + 1}{2} + \\frac{S + 3}{4} + \\frac{S + 3}{8} + \\dots + \\frac{S + 3}{2^n} + \\frac{1}{2^n}$$\n",
    "\n",
    "$$S = \\frac{S + 1}{2} + \\frac{S + 3}{4} \\frac{1 - \\frac{1}{2}^{n - 1}}{1/2} + \\frac{1}{2^n}$$\n",
    "\n",
    "$$S = 2^{n-1} + 3(2^{n - 1} - 1) + 1$$\n",
    "\n",
    "Для примера, если ограничимся выпадением 2-х орлов подряд, получим\n",
    "\n",
    "$$S_2 = 2^{2-1} + 3(2^{2 - 1} - 1) + 1 = 6$$\n",
    "***"
   ]
  },
  {
   "cell_type": "markdown",
   "metadata": {},
   "source": [
    "## Задание 2\n",
    "\n",
    "Авария происходит в точке $X$, которая равномерно распределена по дороге длиной $L$. Во время аварии машина скорой помощинаходится в точке $Y$, которая также равномерно распределена по дороге. Считая, что $X$ и $Y$ независимы, найти математическое ожидание расстояния между машиной скорой помощи и точкой аварии."
   ]
  },
  {
   "cell_type": "markdown",
   "metadata": {},
   "source": [
    "### Решение\n",
    "\n",
    "Так как $X$ и $Y$ - случайные величины, равномерно распределенные по отрезку $\\Big [0; \\; L \\Big ]$, то функции плотности вероятности равна\n",
    "\n",
    "$$f_X(x) = f_Y(x) =\n",
    "\\begin{cases}\n",
    "    0, \\quad \\text{если } \\; x < 0 \\\\\n",
    "    \\\\ \\Large \\frac{1}{L} \\normalsize, \\quad \\text{если } 0 \\leq x \\leq L \\\\\n",
    "    \\\\ 0, \\quad \\text{если } x > L\n",
    "\\end{cases}$$\n",
    "\n",
    "Две случайные точки $X$ и $Y$ выбраны на отрезке $\\Big [0; \\; L \\Big ]$, соответственно расстояние между ними равно\n",
    "\n",
    "$$S = |X - Y|$$\n",
    "\n",
    "И требуется найти математическое ожидание $E(|X - Y|)$.\n",
    "\n",
    "Определим функцию\n",
    "\n",
    "$$g(X, Y) = |X - Y| =\n",
    "\\begin{cases}\n",
    "    X - Y, \\quad \\text{если } \\; X > Y \\\\\n",
    "    Y - X, \\quad \\text{если } \\; Y > X\n",
    "\\end{cases}$$\n",
    "\n",
    "Также найдем значение совместной функции плотности распределения. Так как $X$ и $Y$ - независимые случайные величины, то\n",
    "\n",
    "$$f_{XY}(X, Y) = f_X(X) \\cdot f_Y(Y) = \\frac{1}{L^2}$$\n",
    "\n",
    "на интервале $\\Big [0; \\; L \\Big ]$.\n",
    "\n",
    "Таким образом, получаем\n",
    "\n",
    "$$\\begin{align}E(|X - Y|) &= \\int\\limits_{0}^{L} \\int\\limits_{0}^{L} g(X, Y)f_{XY}(X, Y)\\,\\mathrm{d}X\\mathrm{d}Y = \\\\ &= \\frac{1}{L^2} \\int\\limits_{0}^{L} \\int\\limits_{0}^{L} |X - Y|\\,\\mathrm{d}X\\mathrm{d}Y = \\\\ &= \\frac{1}{L^2} \\int\\limits_{0}^{L} \\int\\limits_{0}^{X} (X - Y)\\,\\mathrm{d}Y\\mathrm{d}X + \\frac{1}{L^2} \\int\\limits_{0}^{L} \\int\\limits_{X}^{L} (Y - X)\\,\\mathrm{d}Y\\mathrm{d}X = \\\\ &= \\frac{1}{L^2} \\int\\limits_{0}^{L} \\Big (XY - \\frac{Y^2}{2} \\Big) \\Bigg |_0^X \\mathrm{d}X + \\frac{1}{L^2} \\int\\limits_{0}^{L} \\Big (\\frac{Y^2}{2} - XY \\Big ) \\Bigg |_X^L \\mathrm{d}X = \\\\ &= \\frac{1}{L^2} \\int\\limits_{0}^{L} \\frac{X^2}{2} \\mathrm{d}X + \\frac{1}{L^2} \\int\\limits_{0}^{L} \\frac{(X - L)^2}{2} \\mathrm{d}X = \\\\ &= \\frac{1}{L^2} \\Big ( \\frac{X^3}{3} \\Big ) \\Bigg |_0^L + \\frac{1}{L^2} \\Big ( \\frac{\\frac{X^3}{3} - LX^2 + L^2X}{2} \\Big ) \\Bigg |_0^L = \\\\ &= \\frac{1}{L^2} \\frac{L^3}{6} + \\frac{1}{L^2} \\frac{L^3}{6} = \\frac{L}{3}\\end{align}$$\n",
    "\n",
    "**Ответ:** $E(|X - Y|) = \\Large \\frac{L}{3}$"
   ]
  },
  {
   "cell_type": "markdown",
   "metadata": {},
   "source": [
    "## Задание 3\n",
    "\n",
    "Совместный закон случайных величин $X$ и $Y$ задан таблицей:\n",
    "\n",
    "| $X/Y$ | 0 | 1 | 3 |\n",
    "|:-----:|:-:|:-:|:-:|\n",
    "| 0 | 0.15 | 0.05 | 0.3 |\n",
    "| -1 | 0 | 0.15 | 0.1 |\n",
    "| -2 | 0.15 | 0 | 0.1 |\n",
    "\n",
    "Найти:\n",
    "1. Законы распределения случайных величин $X$ и $Y$.\n",
    "2. $EX$, $EY$, $DX$, $DY$, $cov(X, Y)$, $corr(X, Y)$, а также математическое ожидание и дисперсию случайной величины $V = 6X - 4Y + 3$"
   ]
  },
  {
   "cell_type": "markdown",
   "metadata": {},
   "source": [
    "### Решение\n",
    "\n",
    "Законы распределения случайных величин $X$ и $Y$ (маргинальные распределения) получаем суммированием вероятностей по строкам (для $X$)\n",
    "\n",
    "| $X$ | 0 | -1 | -2 |\n",
    "|:---:|:-:|:--:|:--:|\n",
    "| $p$ | 0.5 | 0.25 | 0.25 |\n",
    "\n",
    "и столбцам (для $Y$)\n",
    "\n",
    "| $Y$ | 0 | 1 | 3 |\n",
    "|:---:|:-:|:-:|:-:|\n",
    "| $p$ | 0.3 | 0.2 | 0.5 |"
   ]
  },
  {
   "cell_type": "markdown",
   "metadata": {},
   "source": [
    "Математические ожидания $EX$ и $EY$\n",
    "\n",
    "$EX = 0 \\cdot 0.5 - 1 \\cdot 0.25 - 2 \\cdot 0.25 = -0.75$\n",
    "\n",
    "$EY = 0 \\cdot 0.3 + 1 \\cdot 0.2 + 3 \\cdot 0.5 = 1.7$"
   ]
  },
  {
   "cell_type": "markdown",
   "metadata": {},
   "source": [
    "Рассчитаем дисперсии $DX$ и $DY$\n",
    "\n",
    "Распределение $X^2$\n",
    "\n",
    "| $X^2$ | 0 | 1 | 4 |\n",
    "|:---:|:-:|:--:|:--:|\n",
    "| $p$ | 0.5 | 0.25 | 0.25 |\n",
    "\n",
    "Распределение $Y^2$\n",
    "\n",
    "| $Y^2$ | 0 | 1 | 9 |\n",
    "|:---:|:-:|:-:|:-:|\n",
    "| $p$ | 0.3 | 0.2 | 0.5 |\n",
    "\n",
    "$E(X^2) = 0 \\cdot 0.5 + 1 \\cdot 0.25 + 4 \\cdot 0.25 = 1.25$\n",
    "\n",
    "$E(Y^2) = 0 \\cdot 0.3 + 1 \\cdot 0.2 + 9 \\cdot 0.5 = 4.7$\n",
    "\n",
    "$DX = E(X^2) - [E(X)]^2 = 1.25 - (-0.75)^2 = 0.6875$\n",
    "\n",
    "$DY = E(Y^2) - [E(Y)]^2 = 4.7 - 1.7^2 = 1.81$"
   ]
  },
  {
   "cell_type": "markdown",
   "metadata": {},
   "source": [
    "Вычислим $cov(X, Y)$, $corr(X, Y)$. Для начала, нам нужно найти распределение $X \\cdot Y$\n",
    "\n",
    "| $X \\cdot Y$ | p | $X \\cdot Y$ | p | $X \\cdot Y$ | p |\n",
    "|:-----------:|:-:|:-----------:|:-:|:-----------:|:-:|\n",
    "| $0 \\cdot 0 = 0$ | 0.15 | $-1 \\cdot 0 = 0$ | 0 | $-2 \\cdot 0 = 0$ | 0.15 |\n",
    "| $0 \\cdot 1 = 0$ | 0.05 | $-1 \\cdot 1 = -1$ | 0.15 | $-2 \\cdot 1 = -2$ | 0 |\n",
    "| $0 \\cdot 3 = 0$ | 0.3 | $-1 \\cdot 3 = -3$ | 0.1 | $-2 \\cdot 3 = -6$ | 0.1 |\n",
    "\n",
    "Получаем распределение\n",
    "\n",
    "| $X \\cdot Y$ | 0 | -1 | -3 | -6 |\n",
    "|:-----------:|:-:|:--:|:--:|:--:|\n",
    "| $p$ | 0.65 | 0.15 | 0.1 | 0.1 |\n",
    "\n",
    "Тогда\n",
    "\n",
    "$cov(X, Y) = E(XY) - EX \\cdot EY = 0 \\cdot 0.65 - 1 \\cdot 0.15 - 3 \\cdot 0.1 -6 \\cdot 0.1 - (-0.75) \\cdot 1.7 = 0.225$\n",
    "\n",
    "$corr(X, Y) = \\large \\frac{cov(X, Y)}{\\sqrt{DX} \\sqrt{DY}} \\normalsize = \\large \\frac{0.225}{\\sqrt{0.6875} \\sqrt{1.81}} \\normalsize \\approx 0.202$"
   ]
  },
  {
   "cell_type": "markdown",
   "metadata": {},
   "source": [
    "Математическое ожидание и дисперсия случайной величины $V = 6X - 4Y + 3$\n",
    "\n",
    "$EV = E(6X - 4Y + 3) = 6EX - 4EY + 3 = 6 \\cdot (-0.75) - 4 \\cdot 1.7 + 3 = -8.3$\n",
    "\n",
    "$DV = 36DX + 2 \\cdot 6 \\cdot (-4) \\cdot cov(X, Y) + 16DY = 36 \\cdot 0.6875 - 2 \\cdot 6 \\cdot 4 \\cdot 0.225 + 16 \\cdot 1.81 = 42.91$\n",
    "***"
   ]
  },
  {
   "cell_type": "markdown",
   "metadata": {},
   "source": [
    "## Задание 4\n",
    "\n",
    "Пусть $x_1, \\dots, x_n$ - результаты $n$ независимых повторных наблюдений над дискретной случайной величиной $\\xi$, принимающей значения из множества $Y = \\{0, \\; 1\\}$ с вероятностями:\n",
    "\n",
    "$$P\\{\\xi = 1\\} = \\frac{1 + \\theta}{2}, \\; P\\{\\xi = 0\\} = \\frac{1 - \\theta}{2}, \\; -1 < \\theta < 1$$\n",
    "\n",
    "Найти оценку максимального правдоподобия неизвестного параметра $\\theta$."
   ]
  },
  {
   "cell_type": "markdown",
   "metadata": {},
   "source": [
    "### Решение\n",
    "\n",
    "Т.к. $\\xi$ может принимать только значения 0 и 1, то можно записать\n",
    "\n",
    "$P\\{\\xi = x_i \\} = \\Big (\\frac{1 + \\theta}{2} \\Big )^{x_i} \\Big (\\frac{1 - \\theta}{2} \\Big )^{1 - x_i}$\n",
    "\n",
    "Тогда функция правдоподобия выглядит следующим образом\n",
    "\n",
    "$L(\\theta) = \\prod\\limits_{i = 1}^n \\Big (\\frac{1 + \\theta}{2} \\Big )^{x_i} \\Big (\\frac{1 - \\theta}{2} \\Big )^{1 - x_i}$\n",
    "\n",
    "Прологарифмируем\n",
    "\n",
    "$\\ln L(\\theta) = \\Big (\\sum\\limits_{i = 1}^n x_i \\Big) \\ln(1 + \\theta) + \\Big (\\sum\\limits_{i = 1}^n (1 - x_i) \\Big) \\ln(1 - \\theta) \\rightarrow max \\; \\theta$\n",
    "\n",
    "Производная\n",
    "\n",
    "$\\Large \\frac{\\partial L}{\\partial \\theta} \\normalsize = \\Large \\frac{\\sum\\limits_{i = 1}^n x_i}{1 + \\theta} - \\frac{\\sum\\limits_{i = 1}^n (1 - x_i)}{1 - \\theta}$\n",
    "\n",
    "$\\Large \\frac{\\sum\\limits_{i = 1}^n x_i}{1 + \\widehat \\theta} \\normalsize - \\Large \\frac{\\sum\\limits_{i = 1}^n (1 - x_i)}{1 - \\widehat \\theta} \\normalsize = 0$\n",
    "\n",
    "Получаем\n",
    "\n",
    "$\\Large \\frac{\\sum\\limits_{i = 1}^n x_i}{1 + \\widehat \\theta} \\normalsize - \\Large \\frac{n - \\sum\\limits_{i = 1}^n x_i}{1 - \\widehat \\theta} \\normalsize = 0$\n",
    "\n",
    "$\\Large \\sum\\limits_{i = 1}^n x_i \\normalsize - \\widehat \\theta \\Large \\sum\\limits_{i = 1}^n x_i \\normalsize = n + n \\widehat \\theta - \\Large \\sum\\limits_{i = 1}^n x_i \\normalsize - \\widehat \\theta \\Large \\sum\\limits_{i = 1}^n x_i \\normalsize$\n",
    "\n",
    "$n \\widehat \\theta = 2\\Large \\sum\\limits_{i = 1}^n x_i \\normalsize - n$\n",
    "\n",
    "$\\widehat \\theta = \\Large \\frac{2}{n}\\sum\\limits_{i = 1}^n x_i \\normalsize - 1 = \\Large \\frac{2}{n}\\sum\\limits_{i = 1}^n \\xi \\normalsize - 1$\n",
    "***"
   ]
  },
  {
   "cell_type": "markdown",
   "metadata": {},
   "source": [
    "## Задание 5\n",
    "\n",
    "Пусть $x_1, \\dots, x_n$ - результаты $n$ независимых повторных наблюдений над случайной величиной $\\xi$, плотность распределения которой имеет вид:\n",
    "\n",
    "$$f(x; \\theta) = pf_1(x; \\theta) + (1 - p)f_2(x; \\theta)$$\n",
    "\n",
    "где\n",
    "\n",
    "$$f_1(x; \\theta) =\n",
    "\\begin{cases}\n",
    "    \\Large \\frac{1}{\\theta} \\normalsize, \\quad \\text{если } \\; 0 < x \\leq \\theta \\\\\n",
    "    \\\\ 0, \\quad \\text{если } x \\text{ - другое}\n",
    "\\end{cases}$$\n",
    "\n",
    "$$f_1(x; \\theta) =\n",
    "\\begin{cases}\n",
    "    \\Large \\frac{1}{1 - \\theta} \\normalsize, \\quad \\text{если } \\; \\theta < x < 1 \\\\\n",
    "    \\\\ 0, \\quad \\text{если } x \\text{ - другое}\n",
    "\\end{cases}$$\n",
    "\n",
    "$p,\\; \\theta$ - неизвестные параметры, $0 \\leq p \\leq 1$\n",
    "\n",
    "Найти оценки неизвестных параметров $p,\\; \\theta$ методом моментов."
   ]
  },
  {
   "cell_type": "markdown",
   "metadata": {},
   "source": [
    "### Решение\n",
    "\n",
    "Т.к. имеем два неизвестных параметра, вычислим первый и второй моменты случайной величины $\\xi$\n",
    "\n",
    "$$\\begin{align}\\mu_1 = \\int\\limits_{0}^{1} xf(x,\\; \\theta)\\,\\mathrm{d}x &= \\int\\limits_{0}^{\\theta} xpf_1(x,\\; \\theta)\\,\\mathrm{d}x + \\int\\limits_{\\theta}^{1} x(1-p)f_2(x,\\; \\theta)\\,\\mathrm{d}x = \\\\ &= \\frac{p}{\\theta} \\int\\limits_{0}^{\\theta} x\\,\\mathrm{d}x + \\frac{1 - p}{1 - \\theta} \\int\\limits_{\\theta}^{1} x\\,\\mathrm{d}x = \\frac{p}{\\theta} \\frac{\\theta^2}{2} + \\frac{1 - p}{1 - \\theta} \\Big ( \\frac{1}{2} - \\frac{\\theta^2}{2}\\Big ) = \\\\ &= \\frac{p \\theta}{2} + \\frac{(1 - p)(1 - \\theta)(1 + \\theta)}{2(1 - \\theta)} = \\frac{1 + \\theta - p}{2} \\end{align}$$\n",
    "\n",
    "$$\\begin{align}\\mu_2 &= \\frac{p}{\\theta} \\int\\limits_{0}^{\\theta} x^2\\,\\mathrm{d}x + \\frac{1 - p}{1 - \\theta} \\int\\limits_{\\theta}^{1} x^2\\,\\mathrm{d}x = \\\\ &= \\frac{p}{\\theta} \\frac{\\theta^3}{3} + \\frac{1 - p}{1 - \\theta} \\Big( \\frac{1}{2} - \\frac{\\theta^3}{3} \\Big) = \\frac{p \\theta^2}{3} + (1 - p) \\frac{\\theta^2 + \\theta + 1}{3} = \\\\ \\\\ &= \\frac{\\theta^2 + \\theta + 1 - p \\theta - p}{3}\\end{align}$$"
   ]
  },
  {
   "cell_type": "markdown",
   "metadata": {},
   "source": [
    "Решаем систему уравнений\n",
    "\n",
    "$$\\begin{cases}\n",
    "    \\mu_1 = \\large \\frac{1 + \\theta - p}{2} \\\\\n",
    "    \\\\ \\mu_2 = \\large \\frac{\\theta^2 + \\theta + 1 - p \\theta - p}{3}\n",
    "\\end{cases}$$\n",
    "\n",
    "$$\\begin{cases}\n",
    "    2m_1 = 1 + \\theta - p \\\\\n",
    "    3m_2 = 1 + \\theta - p + \\theta(\\theta - p) = 2m_1 + \\theta(2m_1 - 1)\n",
    "\\end{cases}$$\n",
    "\n",
    "и получаем\n",
    "\n",
    "$$\\theta = \\frac{3m_2 - 2m_1}{2m_1 - 1}$$\n",
    "\n",
    "$$p = \\frac{3m_2 - 1}{2m_1 - 1} - 2m_1$$"
   ]
  },
  {
   "cell_type": "markdown",
   "metadata": {},
   "source": [
    "Таким образом, оценки неизвестных параметров $p,\\; \\theta$ методом моментов будут иметь вид\n",
    "\n",
    "$$\\widehat \\theta = \\frac{3m_2 - 2m_1}{2m_1 - 1}$$\n",
    "\n",
    "$$\\widehat p = \\frac{3m_2 - 1}{2m_1 - 1} - 2m_1$$\n",
    "\n",
    "При $0 \\leq \\widehat p \\leq 1$"
   ]
  }
 ],
 "metadata": {
  "language_info": {
   "name": "python"
  },
  "orig_nbformat": 4
 },
 "nbformat": 4,
 "nbformat_minor": 2
}
