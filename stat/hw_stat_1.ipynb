{
 "cells": [
  {
   "cell_type": "markdown",
   "metadata": {},
   "source": [
    "# Домашнее задание ШАД МТС по теме ТВиМС 1"
   ]
  },
  {
   "cell_type": "markdown",
   "metadata": {},
   "source": [
    "## Задание 1\n",
    "\n",
    "Компания по страхованию автомобилей разделяет водителей по 3 классам: класс А (мало рискует), класс В (рискует средне), класс С (рискует сильно). Компания предполагает, что из всех водителей, застрахованных у неё, 30% принадлежат классу А, 50% – классу В, 20% – классу С. Вероятность того, что в течение года водитель класса А попадёт хотя бы в одну автокатастрофу, равна 0,01; для водителя класса В эта вероятность равна 0,03, а для водителя класса С – 0,1. Мистер Джонс страхует свою машину у этой компании и в течение года попадает в автокатастрофу. Какова вероятность того, что он относится к классу А?"
   ]
  },
  {
   "cell_type": "markdown",
   "metadata": {},
   "source": [
    "### Решение\n",
    "\n",
    "По условию задана полная система событий:\n",
    "- $H_1$ - случайный клиент компании относится к классу A, $P(H_1) = 0.3$;\n",
    "- $H_2$ - случайный клиент компании относится к классу B, $P(H_2) = 0.5$;\n",
    "- $H_3$ - случайный клиент компании относится к классу C, $P(H_3) = 0.2$.\n",
    "\n",
    "Зададимся событием $A$ = {клиент страховой компании попадает в автокатастрофу в течение года}. Тогда имеются следующие условные вероятности:\n",
    "- $P(H_1|A) = 0.01$ - вероятность того, что клиент класса A попадет в автокатастрофу в течение года;\n",
    "- $P(H_1|B) = 0.03$ - вероятность того, что клиент класса B попадет в автокатастрофу в течение года;\n",
    "- $P(H_1|C) = 0.1$ - вероятность того, что клиент класса C попадет в автокатастрофу в течение года.\n",
    "\n",
    "Требуется найти вероятность принадлежности некоторого мистера Джонса к классу A при условии попадания в автокатастрофу, т.е. $P(A|H_1)$.\n",
    "\n",
    "По формуле Байеса:\n",
    "\n",
    "$P(A|H_1) = \\Large \\frac{P(H_1|A) \\cdot P(H_1)}{P(H_1|A) \\cdot P(H_1) + P(H_2|A) \\cdot P(H_2) + P(H_3|A) \\cdot P(H_3)} = \\frac{0.01 \\; \\cdot \\; 0.3}{0.01 \\; \\cdot \\; 0.3 \\; + \\; 0.03 \\; \\cdot \\; 0.5 \\; + \\; 0.2 \\; \\cdot \\; 0.1} \\normalsize \\approx 0.079$\n",
    "\n",
    "**Ответ:** вероятность того, что мистер Джонс относится к классу A составляется $\\approx 0.079$\n",
    "***"
   ]
  },
  {
   "cell_type": "markdown",
   "metadata": {},
   "source": [
    "## Задание 2\n",
    "\n",
    "Движением частицы по целым точкам прямой управляет схема Бернулли с вероятностью р исхода 1. Если в данном испытании схемы Бернулли появилась 1, то частица из своего положения переходит в правую соседнюю точку, а в противном случае - в левую. Найти вероятность того, что за n шагов частица из точки 0 перейдет в точку m."
   ]
  },
  {
   "cell_type": "markdown",
   "metadata": {},
   "source": [
    "### Решение\n",
    "\n",
    "Пусть событие A - переход частицы в правую точку (исход 1), вероятность этого события $P(A) = p$.\n",
    "\n",
    "Тогда вероятность того, что событие A наступит ровно $k$ раз из $n$ составляет $P(A_k) = C_{n}^{k} p^k (1-p)^{n - k}$.\n",
    "\n",
    "При этом, исходы отдельных событий могут быть как благоприятными, так и нет.\n",
    "\n",
    "Пусть $k$ - количество благоприятных исходов (исход 1), а $l$ - количество неблагоприятных исходов (исход 0).\n",
    "\n",
    "Тогда получаем следующие зависимости:\n",
    "- $k = l + m$ - кол-во благоприятных исходов должно быть на m больше неблагоприятных;\n",
    "- $l = n - k$ - кол-во неблагоприятных исходов есть разница между общим кол-вом и кол-вом благоприятных исходов\n",
    "\n",
    "$\\begin{cases}\n",
    "    k = \\large \\frac{m + n}{2} \\\\\n",
    "    l = \\large \\frac{n - m}{2}\n",
    "\\end{cases}$\n",
    "\n",
    "Подставляем в формулу Бернулли:\n",
    "\n",
    "$P(A_k) = C_{n}^{\\large \\frac{m + n}{2}} p^{\\large \\frac{m + n}{2}} (1-p)^{\\large \\frac{n - m}{2}}$\n",
    "***"
   ]
  },
  {
   "cell_type": "markdown",
   "metadata": {},
   "source": [
    "## Задание 3\n",
    "\n",
    "Плотность распределения $p(x)$ некоторой случайной величины имеет вид $p(x) = \\Large \\frac{c}{e^x + e^{-x}}$, где $c$ – константа. Найти значение этой константы $c$ и вероятность того, что случайная величина примет значение, принадлежащее интервалу $(- \\pi, \\; \\pi)$."
   ]
  },
  {
   "cell_type": "markdown",
   "metadata": {},
   "source": [
    "### Решение\n",
    "\n",
    "Так как $p(x)$ является плотностью распределения, то должно выполняться условие\n",
    "\n",
    "$\\large \\int\\limits_{- \\infty}^{\\infty} \\normalsize p(x)\\,\\mathrm{d}x = 1$\n",
    "\n",
    "$\\int\\limits_{- \\infty}^{\\infty} \\Large \\frac{c}{e^x + e^{-x}}\\, \\normalsize \\mathrm{d}x = $\n",
    "$c \\cdot \\int\\limits_{- \\infty}^{\\infty} \\Large \\frac{1}{e^x + e^{-x}}\\, \\normalsize \\mathrm{d}x = $\n",
    "$c \\cdot \\int\\limits_{- \\infty}^{\\infty} \\Large \\frac{e^x}{e^{2x} + 1}\\, \\normalsize \\mathrm{d}x = $\n",
    "\n",
    "Подводим $e^x$ под знак дифференциала: $\\mathrm{d}(e^x) = e^x \\mathrm{d}x \\rightarrow \\mathrm{d}x = \\Large \\frac{1}{e^x} \\normalsize \\mathrm{d}(e^x)$\n",
    "\n",
    "$ = c \\cdot \\int\\limits_{- \\infty}^{\\infty} \\Large \\frac{e^x}{e^{2x} + 1} \\cdot \\Large \\frac{1}{e^x} \\normalsize \\mathrm{d}(e^x) = $\n",
    "$ = c \\cdot \\int\\limits_{- \\infty}^{\\infty} \\Large \\frac{1}{e^{2x} + 1}\\, \\normalsize \\mathrm{d}(e^x) = c \\cdot (\\arctan(e^x) + C) = c \\cdot \\Large \\frac{\\pi}{2}$\n",
    "\n",
    "Соответственно, $c = \\Large \\frac{2}{\\pi}$\n",
    "\n",
    "Вероятность того, что случайная величина примет значение, принадлежащее интервалу $(- \\pi, \\; \\pi)$ находится, как разность значений функции распределения в указанных точках. Получаем:\n",
    "\n",
    "$P(-\\pi < X < \\pi) = \\Large \\frac{2}{\\pi} \\normalsize \\arctan(e^{\\pi}) - \\Large \\frac{2}{\\pi} \\normalsize \\arctan(e^{-\\pi}) \\approx \\Large \\frac{2}{\\pi} \\normalsize 1.484 \\approx \\Large \\frac{2.968}{\\pi} \\normalsize$\n",
    "***"
   ]
  },
  {
   "cell_type": "markdown",
   "metadata": {},
   "source": [
    "## Задание 4\n",
    "\n",
    "Задана плотность распределения вероятностей $f(x)$ непрерывной случайной величины $X$:\n",
    "\n",
    "$f(x) = \n",
    "\\begin{cases}\n",
    "0, & \\quad \\text{если} \\quad x < 1 \\\\\n",
    "A\\sqrt{x}, & \\quad \\text{если} \\quad 1 \\leq x \\leq 4 \\\\\n",
    "0, & \\quad \\text{если} \\quad x > 4\n",
    "\\end{cases}$\n",
    "\n",
    "Найти функцию распределения $F(x)$ и $P(2 < X < 3)$."
   ]
  },
  {
   "cell_type": "markdown",
   "metadata": {},
   "source": [
    "### Решение\n",
    "\n",
    "Найдем параметр $A$. Для этого воспользуемся свойством\n",
    "\n",
    "$\\large \\int\\limits_{- \\infty}^{\\infty} \\normalsize p(x)\\,\\mathrm{d}x = 1$\n",
    "\n",
    "$\\large \\int\\limits_{- \\infty}^{1} \\normalsize 0\\,\\mathrm{d}x + \\large \\int\\limits_{1}^{4} \\normalsize A \\sqrt{x}\\,\\mathrm{d}x + \\large \\int\\limits_{4}^{\\infty} \\normalsize 0\\,\\mathrm{d}x = 1$\n",
    "\n",
    "$A \\large \\int\\limits_{1}^{4} \\normalsize \\sqrt{x}\\,\\mathrm{d}x = 1$\n",
    "\n",
    "$A \\cdot \\Large \\frac{2}{3} \\normalsize \\sqrt{x^3} \\; \\Big |_1^4 = A(\\Large \\frac{2}{3} \\normalsize \\sqrt{4^3} - \\Large \\frac{2}{3} \\normalsize \\sqrt{1^3}) = A \\; \\Large \\frac{14}{3} \\normalsize = 1$\n",
    "\n",
    "Откуда $A = \\Large \\frac{3}{14} \\normalsize$"
   ]
  },
  {
   "cell_type": "markdown",
   "metadata": {},
   "source": [
    "Таким образом, функция плотности распределения имеет вид\n",
    "\n",
    "$f(x) = \n",
    "\\begin{cases}\n",
    "0, & \\quad \\text{если} \\quad x < 1 \\\\\n",
    "\\\\ \\Large \\frac{3}{14} \\normalsize \\sqrt{x}, & \\quad \\text{если} \\quad 1 \\leq x \\leq 4 \\\\\n",
    "\\\\ 0, & \\quad \\text{если} \\quad x > 4\n",
    "\\end{cases}$\n",
    "\n",
    "Теперь найдем функцию распределения вероятностей. Она равна\n",
    "\n",
    "$F(x) = \\large \\int\\limits_{- \\infty}^{x} \\normalsize f(x)\\,\\mathrm{d}x$\n",
    "\n",
    "Т.к. функция плотности распределения задана 3-мя интервалами, то функцию распределения вероятностей вычисляем тоже по интервалам."
   ]
  },
  {
   "cell_type": "markdown",
   "metadata": {},
   "source": [
    "1. На интервале $\\Big (- \\infty; \\; 1 \\Big ) \\; f(x) = 0$, соответственно\n",
    "\n",
    "$F(x) = \\large \\int\\limits_{- \\infty}^{x} \\normalsize 0\\,\\mathrm{d}x = 0$\n",
    "\n",
    "2. На интервале $\\Big [1; \\; 4 \\Big ] \\; f(x) = \\Large \\frac{3}{14} \\normalsize \\sqrt{x}$, соответственно\n",
    "\n",
    "$F(x) = \\large \\int\\limits_{- \\infty}^{1} \\normalsize 0\\,\\mathrm{d}x + \\Large \\frac{3}{14} \\large \\int\\limits_{1}^{x} \\normalsize \\sqrt{x}\\,\\mathrm{d}x = 0 + \\Large \\frac{3}{14} \\normalsize (\\Large \\frac{2}{3} \\normalsize \\sqrt{x^3}) \\; \\Big |_1^x = \\Large \\frac{1}{7} \\normalsize (\\sqrt{x^3} - \\sqrt{1^3}) = \\Large \\frac{1}{7} \\normalsize (\\sqrt{x^3} - 1)$\n",
    "\n",
    "3. На интервале $\\Big (4; \\; \\infty \\Big ) \\; f(x) = 0$, соответственно\n",
    "\n",
    "$F(x) = \\large \\int\\limits_{- \\infty}^{1} \\normalsize 0\\,\\mathrm{d}x + \\Large \\frac{3}{14} \\large \\int\\limits_{1}^{4} \\normalsize \\sqrt{x}\\,\\mathrm{d}x + \\large \\int\\limits_{4}^{\\infty} \\normalsize 0\\,\\mathrm{d}x = 0 + \\Large \\frac{3}{14} \\normalsize (\\Large \\frac{2}{3} \\normalsize \\sqrt{x^3}) \\; \\Big |_1^4 + 0 = \\Large \\frac{1}{7} \\normalsize (\\sqrt{4^3} - \\sqrt{1^3}) = 1$"
   ]
  },
  {
   "cell_type": "markdown",
   "metadata": {},
   "source": [
    "Таким образом, функция распределения вероятностей имеет следующий вид:\n",
    "\n",
    "$F(x) = \n",
    "\\begin{cases}\n",
    "0, & \\quad \\text{если} \\quad x < 1 \\\\\n",
    "\\\\ \\Large \\frac{1}{7} \\normalsize (\\sqrt{x^3} - 1), & \\quad \\text{если} \\quad 1 \\leq x \\leq 4 \\\\\n",
    "\\\\ 1, & \\quad \\text{если} \\quad x > 4\n",
    "\\end{cases}$\n",
    "\n",
    "$P(2 < X < 3) = F(3) - F(2) = \\Large \\frac{1}{7} \\normalsize (\\sqrt{3^3} - 1) - \\Large \\frac{1}{7} \\normalsize (\\sqrt{2^3} - 1) = \\Large \\frac{\\sqrt{3^3} - \\sqrt{2^3}}{7} \\normalsize \\approx 0.338$"
   ]
  },
  {
   "cell_type": "markdown",
   "metadata": {},
   "source": [
    "Также можно вычислить через функцию плотности распределения:\n",
    "\n",
    "$P(2 < X < 3) = \\large \\int\\limits_{2}^{3} \\normalsize f(x)\\,\\mathrm{d}x = \\Large \\frac{3}{14} \\large \\int\\limits_{2}^{3} \\normalsize \\sqrt{x}\\,\\mathrm{d}x = \\Large \\frac{3}{14} \\normalsize (\\Large \\frac{2}{3} \\normalsize \\sqrt{x^3})  \\; \\Big |_2^3 = \\Large \\frac{1}{7} \\normalsize (\\sqrt{3^3} - \\sqrt{2^3}) \\approx 0.338$\n",
    "***"
   ]
  },
  {
   "cell_type": "markdown",
   "metadata": {},
   "source": [
    "## Задание 5\n",
    "\n",
    "При работе ЭВМ время от времени возникают сбои. Поток сбоев можно считать простейшим. Среднее число сбоев за сутки равно 1,5. Найти вероятность того, что в течение суток произойдет хотя бы один сбой."
   ]
  },
  {
   "cell_type": "markdown",
   "metadata": {},
   "source": [
    "### Решение\n",
    "\n",
    "Пусть событие $A$ - за сутки произошло $\\geq 1$ сбоя.\n",
    "\n",
    "Тогда $P(A) = 1 - P(\\overline{A})$, где $P(\\overline{A})$ - вероятность того, что за сутки произошло ровно 0 сбоев.\n",
    "\n",
    "$P(\\overline{A}) = \\Large \\frac{\\lambda^k}{k!} \\normalsize \\cdot e^{- \\lambda}$, где\n",
    "\n",
    "- $\\lambda = 1.5$ - среднеожидаемое число сбоев,\n",
    "- $k = 0$ - количество сбоев.\n",
    "\n",
    "Получаем\n",
    "\n",
    "$P(A) = 1 - P(\\overline{A}) = 1 - \\Large \\frac{\\lambda^k}{k!} \\normalsize \\cdot e^{- \\lambda} = 1 - \\Large \\frac{1.5^0}{0!} \\normalsize \\cdot e^{-1.5} \\approx 0.777$"
   ]
  }
 ],
 "metadata": {
  "language_info": {
   "name": "python"
  },
  "orig_nbformat": 4
 },
 "nbformat": 4,
 "nbformat_minor": 2
}
