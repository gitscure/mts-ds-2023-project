{
 "cells": [
  {
   "cell_type": "markdown",
   "metadata": {},
   "source": [
    "# Домашнее задание ШАД МТС по теме Оптимизация "
   ]
  },
  {
   "cell_type": "markdown",
   "metadata": {},
   "source": [
    "## Задание 1\n",
    "\n",
    "Найти экстремумы функции $f(x_1, x_2, \\dotso, x_n) = \\sum_{i=1}^{n}x_i^2$ на множестве $\\sum_{i=1}^{n}x_i^4 \\le 1$, т.е. решить задачу\n",
    "\n",
    "$\\begin{cases}\n",
    "    x_1^2 + x_2^2 + \\dotso + x_n^2 \\to extr, \\\\\n",
    "    x_1^4 + x_2^4 + \\dotso + x_n^4 - 1 \\le 0\n",
    "\\end{cases}$\n",
    "\n",
    "Решить аналитически и проверить при помощи оптимизатора в Python. Оптимизатор можно использовать на своё усмотрение."
   ]
  },
  {
   "cell_type": "markdown",
   "metadata": {},
   "source": [
    "### Ручное решение"
   ]
  },
  {
   "cell_type": "markdown",
   "metadata": {},
   "source": [
    "Решаем задачу условной оптимизации методом Лагранжа.\n",
    "\n",
    "В данном случае, мы имеем одно ограничение, поэтому помимо множителя $\\lambda_0$ введем один множитель Лагранжа $\\lambda$ для ограничения. Тогда функция Лагранжа будет выглядеть следующим образом:\n",
    "\n",
    "$L(x_1, x_2, \\dotso, x_n, \\lambda) = \\lambda_0 \\cdot (x_1^2 + x_2^2 + \\dotso + x_n^2) + \\lambda \\cdot (x_1^4 + x_2^4 + \\dotso + x_n^4 - 1)$\n",
    "\n",
    "Находим частные производные:\n",
    "\n",
    "$\\begin{cases}\n",
    "    \\frac{\\partial L}{\\partial x_1} = 2\\lambda_0 x_1 + 4\\lambda x_1^3 \\\\\n",
    "    \\frac{\\partial L}{\\partial x_2} = 2\\lambda_0 x_2 + 4\\lambda x_2^3 \\\\\n",
    "    \\dotso \\\\\n",
    "    \\frac{\\partial L}{\\partial x_n} = 2\\lambda_0 x_n + 4\\lambda x_n^3 \\\\\n",
    "\\end{cases}$\n",
    "\n",
    "\n",
    "Для нахождения экстремумов функции, решаем систему уравнений, состоящую из частных производных функции Лагранжа по всем переменным и равенства нулю этих производных:\n",
    "\n",
    "$\\begin{cases}\n",
    "    2\\lambda_0 x_1 + 4\\lambda x_1^3 = 0 \\\\\n",
    "    2\\lambda_0 x_2 + 4\\lambda x_2^3 = 0 \\\\\n",
    "    \\dotso \\\\\n",
    "    2\\lambda_0 x_n + 4\\lambda x_n^3 = 0 \\\\\n",
    "    \\lambda \\cdot (x_1^4 + x_2^4 + \\dotso + x_n^4 - 1) = 0 \\\\\n",
    "\\end{cases}$"
   ]
  },
  {
   "cell_type": "markdown",
   "metadata": {},
   "source": [
    "Рассмотрим случай, когда $\\lambda_0 = 0$. Тогда\n",
    "\n",
    "$\\begin{cases}\n",
    "    4\\lambda x_1^3 = 0 \\\\\n",
    "    4\\lambda x_2^3 = 0 \\\\\n",
    "    \\dotso \\\\\n",
    "    4\\lambda x_n^3 = 0 \\\\\n",
    "    \\lambda \\cdot (x_1^4 + x_2^4 + \\dotso + x_n^4 - 1) = 0 \\\\\n",
    "\\end{cases}$\n",
    "\n",
    "В данном случае точки, подозрительные на экстремум, отсутствуют, т.к. при $\\lambda \\ne 0$ система несовместна, а при $\\lambda = 0$ весь вектор $\\lambda$ становится нулевым"
   ]
  },
  {
   "cell_type": "markdown",
   "metadata": {},
   "source": [
    "Рассмотрим случай, когда $\\lambda_0 \\ne 0$. Предположим, что $\\lambda_0 = 2$. Тогда\n",
    "\n",
    "$\\begin{cases}\n",
    "    x_1 + \\lambda x_1^3 = 0 \\\\\n",
    "    x_2 + \\lambda x_2^3 = 0 \\\\\n",
    "    \\dotso \\\\\n",
    "    x_n + \\lambda x_n^3 = 0 \\\\\n",
    "    \\lambda \\cdot (x_1^4 + x_2^4 + \\dotso + x_n^4 - 1) = 0 \\\\\n",
    "\\end{cases}$\n",
    "\n",
    "Первый вариант (при $\\lambda = 0$) приводит к тому, что $x_1 = x_2 = \\dotso = x_n = 0$ приводит к $f(x_1, x_2, \\dotso, x_n) = 0$ - значением глобального минимума"
   ]
  },
  {
   "cell_type": "markdown",
   "metadata": {},
   "source": [
    "Далее перепишем:\n",
    "\n",
    "$\\begin{cases}\n",
    "    \\lambda x_1^2 = -1 \\\\\n",
    "    \\lambda x_2^2 = -1 \\\\\n",
    "    \\dotso \\\\\n",
    "    \\lambda x_n^2 = -1 \\\\\n",
    "    \\lambda \\cdot (x_1^4 + x_2^4 + \\dotso + x_n^4 - 1) = 0 \\\\\n",
    "\\end{cases}$\n",
    "\n",
    "Из первых $n$ уравнений получаем, что $x_1^2 = x_2^2 = \\dotso = x_n^2$\n",
    "\n",
    "Второй вариант (при $\\lambda \\ne 0$) приводит к тому, что $x_1^4 + x_2^4 + \\dotso + x_n^4 - 1 = 0$, подставляем в него равенство $x_i^2$, тогда\n",
    "\n",
    "$x_1^2 + x_2^2 + \\dotso + x_n^2 = 1$\n",
    "\n",
    "Откуда следует, что $x_i^2 = \\frac{1}{n}$"
   ]
  },
  {
   "cell_type": "markdown",
   "metadata": {},
   "source": [
    "Подставляем в исходную функцию $f(x_1, x_2, \\dotso, x_n) = \\sum_{i=1}^{n}x_i^2 = n \\frac{1}{n} = 1$ - является точкой глобального максимума"
   ]
  },
  {
   "cell_type": "markdown",
   "metadata": {},
   "source": [
    "### Проверка оптимизатором\n",
    "\n",
    "Для поиска экстремума функции используем scipy.optimize.minimize"
   ]
  },
  {
   "cell_type": "code",
   "execution_count": 1,
   "metadata": {},
   "outputs": [
    {
     "name": "stdout",
     "output_type": "stream",
     "text": [
      "Optimal value:  1.000000005954911\n"
     ]
    }
   ],
   "source": [
    "import numpy as np\n",
    "from scipy.optimize import minimize\n",
    "\n",
    "# Исходная функция\n",
    "def objective_function(x):\n",
    "    return np.sum(x**2)\n",
    "\n",
    "# Ограничение\n",
    "def constraint_function(x):\n",
    "    return np.sum(x**4) - 1\n",
    "\n",
    "# Начальная точка\n",
    "initial_guess = np.ones(100)\n",
    "\n",
    "constraint = {'type': 'ineq', 'fun': constraint_function}\n",
    "\n",
    "result = minimize(objective_function, initial_guess, constraints=constraint)\n",
    "\n",
    "print(\"Optimal value: \", result.fun)"
   ]
  },
  {
   "cell_type": "markdown",
   "metadata": {},
   "source": [
    "## Задание 2\n",
    "\n",
    "Решить задачу коммивояжера методом ветвей и границ\n",
    "\n",
    "$\\begin{pmatrix}\n",
    "   & \\quad \\text{<1>} & \\quad \\text{<2>} & \\quad \\text{<3>} & \\quad \\text{<4>} & \\quad \\text{<5>} \\\\ \\\\\n",
    "   \\text{<1>} & \\quad \\inf & \\quad 4 & \\quad 5 & \\quad  7 & \\quad  5 \\\\\n",
    "   \\text{<2>} & \\quad 8 & \\quad \\inf & \\quad 5 & \\quad  6 & \\quad  6 \\\\\n",
    "   \\text{<3>} & \\quad 3 & \\quad 5 & \\quad \\inf & \\quad  9 & \\quad  6 \\\\\n",
    "   \\text{<4>} & \\quad 3 & \\quad 5 & \\quad 6 & \\quad  \\inf & \\quad  2 \\\\\n",
    "   \\text{<5>} & \\quad 6 & \\quad 2 & \\quad 3 & \\quad  8 & \\quad  \\inf\n",
    "\\end{pmatrix}$\n",
    "\n",
    "1. Решить аналитически и проверить при помощи оптимизатора в Python. Оптимизатор можно использовать на своё усмотрение (например, ORTools).\n",
    "2. Также дополнительно помимо оптимизатора использовать какой-нибудь метаэвристический алгоритм (имитация отжига / квантовый отжиг / муравьиный алгоритм / генетический алгоритм) для проверки результатов.\n",
    "3. Дать оценку устойчивости метаэвристики в зависимости от начальной точки и от количества итераций."
   ]
  },
  {
   "cell_type": "markdown",
   "metadata": {},
   "source": [
    "### Аналитическое решение"
   ]
  },
  {
   "cell_type": "markdown",
   "metadata": {},
   "source": [
    "**0 итерация:**\n",
    "\n",
    "Редукция строк:\n",
    "\n",
    "$\\begin{pmatrix}\n",
    "   & \\quad \\text{<1>} & \\quad \\text{<2>} & \\quad \\text{<3>} & \\quad \\text{<4>} & \\quad \\text{<5>} \\\\ \\\\\n",
    "   \\text{<1>} & \\quad \\inf & \\quad 4 & \\quad 5 & \\quad  7 & \\quad  5 & \\quad | & \\; 4 \\\\\n",
    "   \\text{<2>} & \\quad 8 & \\quad \\inf & \\quad 5 & \\quad  6 & \\quad  6 & \\quad | & \\; 5 \\\\\n",
    "   \\text{<3>} & \\quad 3 & \\quad 5 & \\quad \\inf & \\quad  9 & \\quad  6 & \\quad | & \\; 3 \\\\\n",
    "   \\text{<4>} & \\quad 3 & \\quad 5 & \\quad 6 & \\quad  \\inf & \\quad  2 & \\quad | & \\; 2 \\\\\n",
    "   \\text{<5>} & \\quad 6 & \\quad 2 & \\quad 3 & \\quad  8 & \\quad  \\inf & \\quad | & \\; 2 \n",
    "\\end{pmatrix}$\n",
    "-->\n",
    "$\\begin{pmatrix}\n",
    "   & \\quad \\text{<1>} & \\quad \\text{<2>} & \\quad \\text{<3>} & \\quad \\text{<4>} & \\quad \\text{<5>} \\\\ \\\\\n",
    "   \\text{<1>} & \\quad \\inf & \\quad 0 & \\quad 1 & \\quad 3 & \\quad 1 & \\quad | & \\; 4 \\\\\n",
    "   \\text{<2>} & \\quad 3 & \\quad \\inf & \\quad 0 & \\quad 1 & \\quad 1 & \\quad | & \\; 5 \\\\\n",
    "   \\text{<3>} & \\quad 0 & \\quad 2 & \\quad \\inf & \\quad 6 & \\quad 3 & \\quad | & \\; 3 \\\\\n",
    "   \\text{<4>} & \\quad 1 & \\quad 3 & \\quad 4 & \\quad \\inf & \\quad 0 & \\quad | & \\; 2 \\\\\n",
    "   \\text{<5>} & \\quad 4 & \\quad 0 & \\quad 1 & \\quad 6 & \\quad \\inf & \\quad | & \\; 2 \n",
    "\\end{pmatrix}$\n",
    "\n",
    "Редукция столбцов:\n",
    "\n",
    "$\\begin{pmatrix}\n",
    "   & \\quad \\text{<1>} & \\quad \\text{<2>} & \\quad \\text{<3>} & \\quad \\text{<4>} & \\quad \\text{<5>} \\\\ \\\\\n",
    "   \\text{<1>} & \\quad \\inf & \\quad 0 & \\quad 1 & \\quad 3 & \\quad 1 \\\\\n",
    "   \\text{<2>} & \\quad 3 & \\quad \\inf & \\quad 0 & \\quad 1 & \\quad 1 \\\\\n",
    "   \\text{<3>} & \\quad 0 & \\quad 2 & \\quad \\inf & \\quad 6 & \\quad 3 \\\\\n",
    "   \\text{<4>} & \\quad 1 & \\quad 3 & \\quad 4 & \\quad \\inf & \\quad 0 \\\\\n",
    "   \\text{<5>} & \\quad 4 & \\quad 0 & \\quad 1 & \\quad 6 & \\quad \\inf \\\\\n",
    "   \\hline\n",
    "   & \\quad 0 & \\quad 0 & \\quad 0 & \\quad 1 & \\quad 0\n",
    "\\end{pmatrix}$\n",
    "-->\n",
    "$\\begin{pmatrix}\n",
    "   & \\quad \\text{<1>} & \\quad \\text{<2>} & \\quad \\text{<3>} & \\quad \\text{<4>} & \\quad \\text{<5>} \\\\ \\\\\n",
    "   \\text{<1>} & \\quad \\inf & \\quad 0 & \\quad 1 & \\quad 2 & \\quad 1 \\\\\n",
    "   \\text{<2>} & \\quad 3 & \\quad \\inf & \\quad 0 & \\quad 0 & \\quad 1 \\\\\n",
    "   \\text{<3>} & \\quad 0 & \\quad 2 & \\quad \\inf & \\quad 5 & \\quad 3 \\\\\n",
    "   \\text{<4>} & \\quad 1 & \\quad 3 & \\quad 4 & \\quad \\inf & \\quad 0 \\\\\n",
    "   \\text{<5>} & \\quad 4 & \\quad 0 & \\quad 1 & \\quad 5 & \\quad \\inf\n",
    "\\end{pmatrix}$\n",
    "\n",
    "$H_0 = 4 + 5 + 3 + 2 + 2 + 1 = 17$\n",
    "\n",
    "Оценка нулевых клеток:\n",
    "\n",
    "$\\begin{pmatrix}\n",
    "   & \\quad \\text{<1>} & \\quad \\text{<2>} & \\quad \\text{<3>} & \\quad \\text{<4>} & \\quad \\text{<5>} \\\\ \\\\\n",
    "   \\text{<1>} & \\quad \\inf & \\quad 0^{(1)} & \\quad 1 & \\quad 2 & \\quad 1 \\\\\n",
    "   \\text{<2>} & \\quad 3 & \\quad \\inf & \\quad 0^{(1)} & \\quad 0^{(2)} & \\quad 1 \\\\\n",
    "   \\text{<3>} & \\quad \\mathbf{0^{(3)}} & \\quad 2 & \\quad \\inf & \\quad 5 & \\quad 3 \\\\\n",
    "   \\text{<4>} & \\quad 1 & \\quad 3 & \\quad 4 & \\quad \\inf & \\quad 0^{(2)} \\\\\n",
    "   \\text{<5>} & \\quad 4 & \\quad 0^{(1)} & \\quad 1 & \\quad 5 & \\quad \\inf\n",
    "\\end{pmatrix}$\n",
    "\n",
    "Добавляем в дерево маршрут 3-1 с оценкой $H_0 = 17$. Исключаем данную ветвь из дальнейшего решения"
   ]
  },
  {
   "cell_type": "markdown",
   "metadata": {},
   "source": [
    "**1 итерация:**\n",
    "\n",
    "Редукция строк:\n",
    "\n",
    "$\\begin{pmatrix}\n",
    "   & \\quad \\text{<2>} & \\quad \\text{<3>} & \\quad \\text{<4>} & \\quad \\text{<5>} \\\\ \\\\\n",
    "   \\text{<1>} & \\quad 0 & \\quad \\inf & \\quad 2 & \\quad 1 & \\quad | & \\; 0 \\\\\n",
    "   \\text{<2>} & \\quad \\inf & \\quad 0 & \\quad 0 & \\quad 1 & \\quad | & \\; 0 \\\\\n",
    "   \\text{<4>} & \\quad 3 & \\quad 4 & \\quad \\inf & \\quad 0 & \\quad | & \\; 0 \\\\\n",
    "   \\text{<5>} & \\quad 0 & \\quad 1 & \\quad 5 & \\quad \\inf & \\quad | & \\; 0\n",
    "\\end{pmatrix}$\n",
    "-->\n",
    "$\\begin{pmatrix}\n",
    "   & \\quad \\text{<2>} & \\quad \\text{<3>} & \\quad \\text{<4>} & \\quad \\text{<5>} \\\\ \\\\\n",
    "   \\text{<1>} & \\quad 0 & \\quad \\inf & \\quad 2 & \\quad 1 \\\\\n",
    "   \\text{<2>} & \\quad \\inf & \\quad 0 & \\quad 0 & \\quad 1 \\\\\n",
    "   \\text{<4>} & \\quad 3 & \\quad 4 & \\quad \\inf & \\quad 0 \\\\\n",
    "   \\text{<5>} & \\quad 0 & \\quad 1 & \\quad 5 & \\quad \\inf\n",
    "\\end{pmatrix}$\n",
    "\n",
    "Редукция столбцов:\n",
    "\n",
    "$\\begin{pmatrix}\n",
    "   & \\quad \\text{<2>} & \\quad \\text{<3>} & \\quad \\text{<4>} & \\quad \\text{<5>} \\\\ \\\\\n",
    "   \\text{<1>} & \\quad 0 & \\quad \\inf & \\quad 2 & \\quad 1 \\\\\n",
    "   \\text{<2>} & \\quad \\inf & \\quad 0 & \\quad 0 & \\quad 1 \\\\\n",
    "   \\text{<4>} & \\quad 3 & \\quad 4 & \\quad \\inf & \\quad 0 \\\\\n",
    "   \\text{<5>} & \\quad 0 & \\quad 1 & \\quad 5 & \\quad \\inf \\\\\n",
    "   \\hline\n",
    "   & \\quad 0 & \\quad 0 & \\quad 0 & \\quad 0\n",
    "\\end{pmatrix}$\n",
    "-->\n",
    "$\\begin{pmatrix}\n",
    "   & \\quad \\text{<2>} & \\quad \\text{<3>} & \\quad \\text{<4>} & \\quad \\text{<5>} \\\\ \\\\\n",
    "   \\text{<1>} & \\quad 0 & \\quad \\inf & \\quad 2 & \\quad 1 \\\\\n",
    "   \\text{<2>} & \\quad \\inf & \\quad 0 & \\quad 0 & \\quad 1 \\\\\n",
    "   \\text{<4>} & \\quad 3 & \\quad 4 & \\quad \\inf & \\quad 0 \\\\\n",
    "   \\text{<5>} & \\quad 0 & \\quad 1 & \\quad 5 & \\quad \\inf\n",
    "\\end{pmatrix}$\n",
    "\n",
    "$H_1 = H_0 + 0 = 17$\n",
    "\n",
    "Оценка нулевых клеток:\n",
    "\n",
    "$\\begin{pmatrix}\n",
    "   & \\quad \\text{<2>} & \\quad \\text{<3>} & \\quad \\text{<4>} & \\quad \\text{<5>} \\\\ \\\\\n",
    "   \\text{<1>} & \\quad 0^{(1)} & \\quad \\inf & \\quad 2 & \\quad 1 \\\\\n",
    "   \\text{<2>} & \\quad \\inf & \\quad 0^{(1)} & \\quad 0^{(1)} & \\quad 1 \\\\\n",
    "   \\text{<4>} & \\quad 3 & \\quad 4 & \\quad \\inf & \\quad \\mathbf{0^{(4)}} \\\\\n",
    "   \\text{<5>} & \\quad 0^{(1)} & \\quad 1 & \\quad 5 & \\quad \\inf\n",
    "\\end{pmatrix}$\n",
    "\n",
    "Добавляем в дерево маршрут 4-5 с оценкой $H_1 = 17$. Исключаем данную ветвь из дальнейшего решения"
   ]
  },
  {
   "cell_type": "markdown",
   "metadata": {},
   "source": [
    "**2 итерация:**\n",
    "\n",
    "Редукция строк:\n",
    "\n",
    "$\\begin{pmatrix}\n",
    "   & \\quad \\text{<2>} & \\quad \\text{<3>} & \\quad \\text{<4>} \\\\ \\\\\n",
    "   \\text{<1>} & \\quad 0 & \\quad \\inf & \\quad 2 & \\quad | & \\; 0 \\\\\n",
    "   \\text{<2>} & \\quad \\inf & \\quad 0 & \\quad 0 & \\quad | & \\; 0 \\\\\n",
    "   \\text{<5>} & \\quad 0 & \\quad 1 & \\quad \\inf & \\quad | & \\; 0\n",
    "\\end{pmatrix}$\n",
    "-->\n",
    "$\\begin{pmatrix}\n",
    "   & \\quad \\text{<2>} & \\quad \\text{<3>} & \\quad \\text{<4>} \\\\ \\\\\n",
    "   \\text{<1>} & \\quad 0 & \\quad \\inf & \\quad 2 \\\\\n",
    "   \\text{<2>} & \\quad \\inf & \\quad 0 & \\quad 0 \\\\\n",
    "   \\text{<5>} & \\quad 0 & \\quad 1 & \\quad \\inf\n",
    "\\end{pmatrix}$\n",
    "\n",
    "Редукция столбцов:\n",
    "\n",
    "$\\begin{pmatrix}\n",
    "   & \\quad \\text{<2>} & \\quad \\text{<3>} & \\quad \\text{<4>} \\\\ \\\\\n",
    "   \\text{<1>} & \\quad 0 & \\quad \\inf & \\quad 2 \\\\\n",
    "   \\text{<2>} & \\quad \\inf & \\quad 0 & \\quad 0 \\\\\n",
    "   \\text{<5>} & \\quad 0 & \\quad 1 & \\quad \\inf \\\\\n",
    "   \\hline\n",
    "   & \\quad 0 & \\quad 0 & \\quad 0\n",
    "\\end{pmatrix}$\n",
    "-->\n",
    "$\\begin{pmatrix}\n",
    "   & \\quad \\text{<2>} & \\quad \\text{<3>} & \\quad \\text{<4>} \\\\ \\\\\n",
    "   \\text{<1>} & \\quad 0 & \\quad \\inf & \\quad 2 \\\\\n",
    "   \\text{<2>} & \\quad \\inf & \\quad 0 & \\quad 0 \\\\\n",
    "   \\text{<5>} & \\quad 0 & \\quad 1 & \\quad \\inf\n",
    "\\end{pmatrix}$\n",
    "\n",
    "$H_2 = H_1 + 0 = 17$\n",
    "\n",
    "Оценка нулевых клеток:\n",
    "\n",
    "$\\begin{pmatrix}\n",
    "   & \\quad \\text{<2>} & \\quad \\text{<3>} & \\quad \\text{<4>} \\\\ \\\\\n",
    "   \\text{<1>} & \\quad \\mathbf{0^{(2)}} & \\quad \\inf & \\quad 2 \\\\\n",
    "   \\text{<2>} & \\quad \\inf & \\quad 0^{(1)} & \\quad 0^{(2)} \\\\\n",
    "   \\text{<5>} & \\quad 0^{(1)} & \\quad 1 & \\quad \\inf\n",
    "\\end{pmatrix}$\n",
    "\n",
    "Добавляем в дерево маршрут 1-2 с оценкой $H_2 = 17$. Исключаем данную ветвь из дальнейшего решения"
   ]
  },
  {
   "cell_type": "markdown",
   "metadata": {},
   "source": [
    "**3 итерация:**\n",
    "\n",
    "Редукция строк:\n",
    "\n",
    "$\\begin{pmatrix}\n",
    "   & \\quad \\text{<3>} & \\quad \\text{<4>} \\\\ \\\\\n",
    "   \\text{<2>} & \\quad 0 & \\quad 0 & \\quad | & \\; 0 \\\\\n",
    "   \\text{<5>} & \\quad 1 & \\quad \\inf & \\quad | & \\; 1 \n",
    "\\end{pmatrix}$\n",
    "-->\n",
    "$\\begin{pmatrix}\n",
    "   & \\quad \\text{<3>} & \\quad \\text{<4>} \\\\ \\\\\n",
    "   \\text{<2>} & \\quad 0 & \\quad 0 \\\\\n",
    "   \\text{<5>} & \\quad 0 & \\quad \\inf\n",
    "\\end{pmatrix}$\n",
    "\n",
    "Редукция столбцов:\n",
    "\n",
    "$\\begin{pmatrix}\n",
    "   & \\quad \\text{<3>} & \\quad \\text{<4>} \\\\ \\\\\n",
    "   \\text{<2>} & \\quad 0 & \\quad 0 \\\\\n",
    "   \\text{<5>} & \\quad 0 & \\quad \\inf \\\\\n",
    "   \\hline\n",
    "   & \\quad 0 & \\quad 0\n",
    "\\end{pmatrix}$\n",
    "-->\n",
    "$\\begin{pmatrix}\n",
    "   & \\quad \\text{<3>} & \\quad \\text{<4>} \\\\ \\\\\n",
    "   \\text{<2>} & \\quad 0 & \\quad 0 \\\\\n",
    "   \\text{<5>} & \\quad 0 & \\quad \\inf\n",
    "\\end{pmatrix}$\n",
    "\n",
    "$H_3 = H_2 + 1 = 18$\n",
    "\n",
    "Оценка нулевых клеток:\n",
    "\n",
    "$\\begin{pmatrix}\n",
    "   & \\quad \\text{<3>} & \\quad \\text{<4>} \\\\ \\\\\n",
    "   \\text{<2>} & \\quad 0^{(0)} & \\quad \\mathbf{0^{(0)}} \\\\\n",
    "   \\text{<5>} & \\quad 0^{(0)} & \\quad \\inf\n",
    "\\end{pmatrix}$\n",
    "\n",
    "Добавляем в дерево маршрут 2-4 с оценкой $H_3 = 18$. Исключаем данную ветвь из дальнейшего решения"
   ]
  },
  {
   "cell_type": "markdown",
   "metadata": {},
   "source": [
    "**4 итерация:**\n",
    "\n",
    "$\\begin{pmatrix}\n",
    "   & \\quad \\text{<3>}\\\\ \\\\\n",
    "   \\text{<5>} & \\quad 0\n",
    "\\end{pmatrix}$\n",
    "\n",
    "Добавляем в дерево маршрут 5-3 с оценкой $H_4 = H_3 + 0 = 18$"
   ]
  },
  {
   "cell_type": "markdown",
   "metadata": {},
   "source": [
    "Итого получили следующие шаги маршрута:\n",
    "1. 3-1 (3)\n",
    "2. 4-5 (2)\n",
    "3. 1-2 (4)\n",
    "4. 2-4 (6)\n",
    "5. 5-3 (3)\n",
    "\n",
    "После упорядочивания: 3 -> 1 -> 2 -> 4 -> 5 с общей длиной пути 18"
   ]
  },
  {
   "cell_type": "markdown",
   "metadata": {},
   "source": [
    "### Проверка с использованием оптимизатора\n",
    "\n",
    "Для проверки правильности решения будем использовать linear_sum_assignment из пакета scipy.optimize"
   ]
  },
  {
   "cell_type": "code",
   "execution_count": 2,
   "metadata": {},
   "outputs": [
    {
     "name": "stdout",
     "output_type": "stream",
     "text": [
      "Город 1 -> Город 2\n",
      "Город 2 -> Город 4\n",
      "Город 3 -> Город 1\n",
      "Город 4 -> Город 5\n",
      "Город 5 -> Город 3\n"
     ]
    }
   ],
   "source": [
    "import numpy as np\n",
    "from scipy.optimize import linear_sum_assignment\n",
    "\n",
    "# Исходная матрица\n",
    "distance_matrix = np.array([\n",
    "    [np.inf, 4, 5, 7, 5],\n",
    "    [8, np.inf, 5, 6, 6],\n",
    "    [3, 5, np.inf, 9, 6],\n",
    "    [3, 5, 6, np.inf, 2],\n",
    "    [6, 2, 3, 8, np.inf]\n",
    "])\n",
    "\n",
    "# Заменим inf на очень большие числа для корректной работы функции linear_sum_assignment\n",
    "distance_matrix[distance_matrix == np.inf] = 9999999\n",
    "\n",
    "# Применяем функцию\n",
    "row_ind, col_ind = linear_sum_assignment(distance_matrix)\n",
    "\n",
    "# Прибавляем 1, так как наша матрица начинается с 1, а не с 0\n",
    "row_ind += 1\n",
    "col_ind += 1\n",
    "\n",
    "# Выводим решение\n",
    "for row, col in zip(row_ind, col_ind):\n",
    "    print(f'Город {row} -> Город {col}')"
   ]
  },
  {
   "cell_type": "markdown",
   "metadata": {},
   "source": [
    "### Проверка с использованием метаэвристического алгоритма\n",
    "\n",
    "Используем алгоритм имитации отжига из пакета simanneal"
   ]
  },
  {
   "cell_type": "code",
   "execution_count": 3,
   "metadata": {},
   "outputs": [
    {
     "name": "stderr",
     "output_type": "stream",
     "text": [
      " Temperature        Energy    Accept   Improve     Elapsed   Remaining\n",
      "     4.50000         22.00    77.45%    10.75%     0:00:00     0:00:01"
     ]
    },
    {
     "name": "stderr",
     "output_type": "stream",
     "text": [
      "     0.58000         18.00    52.00%     0.00%     0:00:01     0:00:00 Temperature        Energy    Accept   Improve     Elapsed   Remaining\n",
      "     0.58000         18.00    51.88%     0.00%     0:00:13     0:00:00"
     ]
    },
    {
     "name": "stdout",
     "output_type": "stream",
     "text": [
      "Sequence: [3, 1, 2, 4, 5] | Distance: 18.0\n"
     ]
    }
   ],
   "source": [
    "from simanneal import Annealer\n",
    "import numpy as np\n",
    "\n",
    "# Исходная матрица\n",
    "distance_matrix = np.array([\n",
    "    [np.inf, 4, 5, 7, 5],\n",
    "    [8, np.inf, 5, 6, 6],\n",
    "    [3, 5, np.inf, 9, 6],\n",
    "    [3, 5, 6, np.inf, 2],\n",
    "    [6, 2, 3, 8, np.inf]\n",
    "])\n",
    "\n",
    "# Заменим inf на очень большие числа\n",
    "distance_matrix[distance_matrix == np.inf] = 9999999\n",
    "\n",
    "class TravellingSalesmanProblem(Annealer):\n",
    "\n",
    "    # Передаем города в инициализатор\n",
    "    def __init__(self, state):\n",
    "        super(TravellingSalesmanProblem, self).__init__(state)\n",
    "\n",
    "    # Заключаем исходного коммивояжера в список\n",
    "    def move(self):\n",
    "        initial_state = np.array(self.state)\n",
    "        i = np.random.randint(0, len(initial_state) - 1)\n",
    "        j = np.random.randint(i + 1, len(initial_state))\n",
    "        self.state[i:j] = reversed(initial_state[i:j])\n",
    "\n",
    "    # Дальнейший расчет энергии\n",
    "    def energy(self):\n",
    "        e = 0\n",
    "        for i in range(len(self.state)):\n",
    "            e += distance_matrix[self.state[i-1]][self.state[i]]\n",
    "        return e\n",
    "\n",
    "init_state = list(range(5))\n",
    "tsp = TravellingSalesmanProblem(init_state)\n",
    "tsp.set_schedule(tsp.auto(minutes=.2))\n",
    "state, e = tsp.anneal()\n",
    "\n",
    "# Прибавляем 1 к списку\n",
    "state = [i + 1 for i in state]\n",
    "\n",
    "print(f\"Sequence: {state} | Distance: {e}\")"
   ]
  },
  {
   "cell_type": "markdown",
   "metadata": {},
   "source": [
    "**Вывод:** особенностью метаэвристических алгоритмов является то, что результаты могут отличаться от запуска к запуску. В данном примере мы используем генерацию начальных состояний случайным образом, а также подбираем время достаточно большим, чтобы алгоритм отрабатывал адекватно и выдавал корректные результаты. Однако, при изменении, например, времени (tsp.auto(minutes=.000001)) - алгоритм может вернуть неверный результат"
   ]
  }
 ],
 "metadata": {
  "kernelspec": {
   "display_name": "Python 3",
   "language": "python",
   "name": "python3"
  },
  "language_info": {
   "codemirror_mode": {
    "name": "ipython",
    "version": 3
   },
   "file_extension": ".py",
   "mimetype": "text/x-python",
   "name": "python",
   "nbconvert_exporter": "python",
   "pygments_lexer": "ipython3",
   "version": "3.11.1"
  }
 },
 "nbformat": 4,
 "nbformat_minor": 2
}
